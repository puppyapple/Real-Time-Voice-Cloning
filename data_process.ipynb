{
 "cells": [
  {
   "cell_type": "code",
   "execution_count": 15,
   "metadata": {},
   "outputs": [],
   "source": [
    "import glob\n",
    "import librosa\n",
    "import os\n",
    "import sys\n",
    "from pathlib import Path\n",
    "from glob import glob\n",
    "from os.path import join, exists, basename, splitext"
   ]
  },
  {
   "cell_type": "markdown",
   "metadata": {},
   "source": [
    "## Encoder model数据处理"
   ]
  },
  {
   "cell_type": "markdown",
   "metadata": {},
   "source": [
    "ST-CMD数据处理"
   ]
  },
  {
   "cell_type": "code",
   "execution_count": 1,
   "metadata": {},
   "outputs": [
    {
     "name": "stdout",
     "output_type": "stream",
     "text": [
      "/search/hadoop07/wuzijun/voice_data/STcmds\n"
     ]
    }
   ],
   "source": [
    "cd /search/hadoop07/wuzijun/voice_data/STcmds"
   ]
  },
  {
   "cell_type": "code",
   "execution_count": 7,
   "metadata": {},
   "outputs": [],
   "source": [
    "file_list = glob.glob('./ST-CMDS-20170001_1-OS/*.wav')"
   ]
  },
  {
   "cell_type": "code",
   "execution_count": 15,
   "metadata": {},
   "outputs": [
    {
     "data": {
      "text/plain": [
       "('20170001P00099I0019', '.wav')"
      ]
     },
     "execution_count": 15,
     "metadata": {},
     "output_type": "execute_result"
    }
   ],
   "source": [
    "splitext(basename(file_list[0]))"
   ]
  },
  {
   "cell_type": "code",
   "execution_count": 25,
   "metadata": {},
   "outputs": [],
   "source": [
    "speaker_list = set([splitext(basename(f))[0][9:15] for f in file_list])"
   ]
  },
  {
   "cell_type": "code",
   "execution_count": 26,
   "metadata": {},
   "outputs": [
    {
     "data": {
      "text/plain": [
       "855"
      ]
     },
     "execution_count": 26,
     "metadata": {},
     "output_type": "execute_result"
    }
   ],
   "source": [
    "len(speaker_list)"
   ]
  },
  {
   "cell_type": "code",
   "execution_count": 38,
   "metadata": {},
   "outputs": [],
   "source": [
    "for speaker in speaker_list:\n",
    "    Path(f'./wav/{speaker}').mkdir(exist_ok=True)\n",
    "    os.system(f'mv ./ST-CMDS-20170001_1-OS/*{speaker}* ./wav/{speaker}/')"
   ]
  },
  {
   "cell_type": "markdown",
   "metadata": {},
   "source": [
    "Prime数据处理"
   ]
  },
  {
   "cell_type": "code",
   "execution_count": 55,
   "metadata": {},
   "outputs": [
    {
     "name": "stdout",
     "output_type": "stream",
     "text": [
      "/search/hadoop07/wuzijun/voice_data/Primewords\n"
     ]
    }
   ],
   "source": [
    "cd ../Primewords/"
   ]
  },
  {
   "cell_type": "code",
   "execution_count": 40,
   "metadata": {},
   "outputs": [],
   "source": [
    "import pandas as pd\n",
    "import json"
   ]
  },
  {
   "cell_type": "code",
   "execution_count": 44,
   "metadata": {},
   "outputs": [],
   "source": [
    "js = json.load(open('/search/hadoop07/wuzijun/voice_data/Primewords/set1_transcript.json', 'r'))"
   ]
  },
  {
   "cell_type": "code",
   "execution_count": 47,
   "metadata": {},
   "outputs": [],
   "source": [
    "wave_data = pd.DataFrame(js)"
   ]
  },
  {
   "cell_type": "code",
   "execution_count": 64,
   "metadata": {
    "scrolled": true
   },
   "outputs": [
    {
     "data": {
      "text/html": [
       "<div>\n",
       "<style scoped>\n",
       "    .dataframe tbody tr th:only-of-type {\n",
       "        vertical-align: middle;\n",
       "    }\n",
       "\n",
       "    .dataframe tbody tr th {\n",
       "        vertical-align: top;\n",
       "    }\n",
       "\n",
       "    .dataframe thead th {\n",
       "        text-align: right;\n",
       "    }\n",
       "</style>\n",
       "<table border=\"1\" class=\"dataframe\">\n",
       "  <thead>\n",
       "    <tr style=\"text-align: right;\">\n",
       "      <th></th>\n",
       "      <th>id</th>\n",
       "      <th>file</th>\n",
       "      <th>user_id</th>\n",
       "      <th>text</th>\n",
       "      <th>length</th>\n",
       "    </tr>\n",
       "  </thead>\n",
       "  <tbody>\n",
       "    <tr>\n",
       "      <td>0</td>\n",
       "      <td>64869</td>\n",
       "      <td>d6b26896-f2ef-4085-950d-47cd24f21d8f.wav</td>\n",
       "      <td>1013</td>\n",
       "      <td>于是 一切又重新开始 而这一来 我又忘记了它们</td>\n",
       "      <td>8.64</td>\n",
       "    </tr>\n",
       "    <tr>\n",
       "      <td>1</td>\n",
       "      <td>64870</td>\n",
       "      <td>8e1dd32b-a47b-4ed6-bc92-b12050c2284a.wav</td>\n",
       "      <td>0480</td>\n",
       "      <td>黎正训 黎安理 黎恂 黎恺 黎庶焘等都在那里任过教</td>\n",
       "      <td>8.16</td>\n",
       "    </tr>\n",
       "    <tr>\n",
       "      <td>2</td>\n",
       "      <td>64871</td>\n",
       "      <td>8787ea1c-4125-4817-9453-2e8e9c616739.wav</td>\n",
       "      <td>0887</td>\n",
       "      <td>韵音令辞是语言优美动听 往辄破的 是说理论上一发即中</td>\n",
       "      <td>12.56</td>\n",
       "    </tr>\n",
       "    <tr>\n",
       "      <td>3</td>\n",
       "      <td>64872</td>\n",
       "      <td>2cd32895-41be-4365-a85e-395d6f8c0bf6.wav</td>\n",
       "      <td>0999</td>\n",
       "      <td>富有弹性 也是工业中使用的上等材料</td>\n",
       "      <td>4.8</td>\n",
       "    </tr>\n",
       "    <tr>\n",
       "      <td>4</td>\n",
       "      <td>64875</td>\n",
       "      <td>e2b38e1b-fc8b-4602-b293-dbe46b918cf0.wav</td>\n",
       "      <td>0590</td>\n",
       "      <td>我们对这个得谦卑 对那个得谦卑 在这里脱帽</td>\n",
       "      <td>6.72</td>\n",
       "    </tr>\n",
       "    <tr>\n",
       "      <td>5</td>\n",
       "      <td>64878</td>\n",
       "      <td>fe24e279-528f-451e-8d80-7e69582d2f73.wav</td>\n",
       "      <td>0480</td>\n",
       "      <td>江西白鹭洲位于江西吉安市区东面的中 长一点五零点五公里</td>\n",
       "      <td>8.16</td>\n",
       "    </tr>\n",
       "    <tr>\n",
       "      <td>6</td>\n",
       "      <td>64879</td>\n",
       "      <td>ce294649-575c-4911-a673-c6d33b76301d.wav</td>\n",
       "      <td>0419</td>\n",
       "      <td>白川澄子 本名白土澄子 一九三五年六月二十六日出生于日本</td>\n",
       "      <td>6.72</td>\n",
       "    </tr>\n",
       "    <tr>\n",
       "      <td>7</td>\n",
       "      <td>64881</td>\n",
       "      <td>6a292bf1-a4f8-4e71-b964-fab77598b76f.wav</td>\n",
       "      <td>1016</td>\n",
       "      <td>及平江陵之后 王褒入关 贵游等翕然并学褒书</td>\n",
       "      <td>10.44</td>\n",
       "    </tr>\n",
       "    <tr>\n",
       "      <td>8</td>\n",
       "      <td>64882</td>\n",
       "      <td>bf7dd9d9-aae2-410a-902c-f56cb6228798.wav</td>\n",
       "      <td>0999</td>\n",
       "      <td>满庭芳带过青江引 叨叨令带过折桂令 山坡羊带过青哥儿</td>\n",
       "      <td>11.28</td>\n",
       "    </tr>\n",
       "    <tr>\n",
       "      <td>9</td>\n",
       "      <td>64883</td>\n",
       "      <td>65142109-32a2-43b7-a4dd-34b238b30fdd.wav</td>\n",
       "      <td>0590</td>\n",
       "      <td>遇有军情 守城部队即可通过跑马道迅速到达战斗地点</td>\n",
       "      <td>7.8</td>\n",
       "    </tr>\n",
       "  </tbody>\n",
       "</table>\n",
       "</div>"
      ],
      "text/plain": [
       "      id                                      file user_id  \\\n",
       "0  64869  d6b26896-f2ef-4085-950d-47cd24f21d8f.wav    1013   \n",
       "1  64870  8e1dd32b-a47b-4ed6-bc92-b12050c2284a.wav    0480   \n",
       "2  64871  8787ea1c-4125-4817-9453-2e8e9c616739.wav    0887   \n",
       "3  64872  2cd32895-41be-4365-a85e-395d6f8c0bf6.wav    0999   \n",
       "4  64875  e2b38e1b-fc8b-4602-b293-dbe46b918cf0.wav    0590   \n",
       "5  64878  fe24e279-528f-451e-8d80-7e69582d2f73.wav    0480   \n",
       "6  64879  ce294649-575c-4911-a673-c6d33b76301d.wav    0419   \n",
       "7  64881  6a292bf1-a4f8-4e71-b964-fab77598b76f.wav    1016   \n",
       "8  64882  bf7dd9d9-aae2-410a-902c-f56cb6228798.wav    0999   \n",
       "9  64883  65142109-32a2-43b7-a4dd-34b238b30fdd.wav    0590   \n",
       "\n",
       "                           text length  \n",
       "0       于是 一切又重新开始 而这一来 我又忘记了它们   8.64  \n",
       "1     黎正训 黎安理 黎恂 黎恺 黎庶焘等都在那里任过教   8.16  \n",
       "2    韵音令辞是语言优美动听 往辄破的 是说理论上一发即中  12.56  \n",
       "3             富有弹性 也是工业中使用的上等材料    4.8  \n",
       "4         我们对这个得谦卑 对那个得谦卑 在这里脱帽   6.72  \n",
       "5   江西白鹭洲位于江西吉安市区东面的中 长一点五零点五公里   8.16  \n",
       "6  白川澄子 本名白土澄子 一九三五年六月二十六日出生于日本   6.72  \n",
       "7         及平江陵之后 王褒入关 贵游等翕然并学褒书  10.44  \n",
       "8    满庭芳带过青江引 叨叨令带过折桂令 山坡羊带过青哥儿  11.28  \n",
       "9      遇有军情 守城部队即可通过跑马道迅速到达战斗地点    7.8  "
      ]
     },
     "execution_count": 64,
     "metadata": {},
     "output_type": "execute_result"
    }
   ],
   "source": [
    "wave_data.head(10)"
   ]
  },
  {
   "cell_type": "code",
   "execution_count": 52,
   "metadata": {},
   "outputs": [
    {
     "data": {
      "text/plain": [
       "4"
      ]
     },
     "execution_count": 52,
     "metadata": {},
     "output_type": "execute_result"
    }
   ],
   "source": [
    "max(wave_data.user_id.apply(lambda x: len(str(x))))"
   ]
  },
  {
   "cell_type": "code",
   "execution_count": 59,
   "metadata": {},
   "outputs": [
    {
     "data": {
      "text/plain": [
       "id         object\n",
       "file       object\n",
       "user_id    object\n",
       "text       object\n",
       "length     object\n",
       "dtype: object"
      ]
     },
     "execution_count": 59,
     "metadata": {},
     "output_type": "execute_result"
    }
   ],
   "source": [
    "wave_data.dtypes"
   ]
  },
  {
   "cell_type": "code",
   "execution_count": 60,
   "metadata": {},
   "outputs": [],
   "source": [
    "wave_data.user_id = wave_data.user_id.apply(lambda x: str(10000 + int(x))[-4:])"
   ]
  },
  {
   "cell_type": "code",
   "execution_count": 65,
   "metadata": {},
   "outputs": [
    {
     "data": {
      "text/plain": [
       "296"
      ]
     },
     "execution_count": 65,
     "metadata": {},
     "output_type": "execute_result"
    }
   ],
   "source": [
    "len(set(wave_data.user_id))"
   ]
  },
  {
   "cell_type": "code",
   "execution_count": 66,
   "metadata": {},
   "outputs": [],
   "source": [
    "wave_data.to_csv('./transcript/transcript.txt', header=None, index=None)"
   ]
  },
  {
   "cell_type": "code",
   "execution_count": null,
   "metadata": {},
   "outputs": [],
   "source": [
    "find ./audio_files/ -type f -exec mv {}  ./wav/ \\;"
   ]
  },
  {
   "cell_type": "code",
   "execution_count": 68,
   "metadata": {},
   "outputs": [],
   "source": [
    "for speaker in set(wave_data.user_id):\n",
    "    Path(f'./wav/{speaker}').mkdir(exist_ok=True)"
   ]
  },
  {
   "cell_type": "code",
   "execution_count": 69,
   "metadata": {},
   "outputs": [
    {
     "data": {
      "text/plain": [
       "0        0\n",
       "1        0\n",
       "2        0\n",
       "3        0\n",
       "4        0\n",
       "        ..\n",
       "50897    0\n",
       "50898    0\n",
       "50899    0\n",
       "50900    0\n",
       "50901    0\n",
       "Length: 50902, dtype: int64"
      ]
     },
     "execution_count": 69,
     "metadata": {},
     "output_type": "execute_result"
    }
   ],
   "source": [
    "wave_data[['file', 'user_id']] \\\n",
    "    .apply(lambda x: os.system(f'mv ./wav/{x[0]} ./wav/{x[1]}'), axis=1)"
   ]
  },
  {
   "cell_type": "code",
   "execution_count": null,
   "metadata": {},
   "outputs": [],
   "source": []
  },
  {
   "cell_type": "code",
   "execution_count": null,
   "metadata": {},
   "outputs": [],
   "source": []
  },
  {
   "cell_type": "markdown",
   "metadata": {},
   "source": [
    "## Synthesizer model数据处理"
   ]
  },
  {
   "cell_type": "code",
   "execution_count": 41,
   "metadata": {},
   "outputs": [],
   "source": [
    "from pypinyin import pinyin, lazy_pinyin, Style"
   ]
  },
  {
   "cell_type": "code",
   "execution_count": 44,
   "metadata": {},
   "outputs": [
    {
     "data": {
      "text/plain": [
       "[['suan4'], ['le'], ['ba']]"
      ]
     },
     "execution_count": 44,
     "metadata": {},
     "output_type": "execute_result"
    }
   ],
   "source": [
    "pinyin('算了吧', style=Style.TONE3)"
   ]
  },
  {
   "cell_type": "code",
   "execution_count": 46,
   "metadata": {},
   "outputs": [],
   "source": [
    "from pypinyin.contrib.neutral_tone import NeutralToneWith5Mixin\n",
    "from pypinyin.converter import DefaultConverter\n",
    "from pypinyin.core import Pinyin"
   ]
  },
  {
   "cell_type": "code",
   "execution_count": 48,
   "metadata": {},
   "outputs": [],
   "source": [
    "class MyConverter(NeutralToneWith5Mixin, DefaultConverter):\n",
    "    pass"
   ]
  },
  {
   "cell_type": "code",
   "execution_count": 49,
   "metadata": {},
   "outputs": [],
   "source": [
    "my_pinyin = Pinyin(MyConverter())\n",
    "pinyin = my_pinyin.pinyin\n",
    "lazy_pinyin = my_pinyin.lazy_pinyin"
   ]
  },
  {
   "cell_type": "code",
   "execution_count": 65,
   "metadata": {},
   "outputs": [
    {
     "data": {
      "text/plain": [
       "['wo3', 'bu4', 'xi3', 'huan1', 'chi1', 'bo4', 'he5']"
      ]
     },
     "execution_count": 65,
     "metadata": {},
     "output_type": "execute_result"
    }
   ],
   "source": [
    "lazy_pinyin('我不喜欢吃薄荷', style=Style.TONE3)"
   ]
  },
  {
   "cell_type": "markdown",
   "metadata": {},
   "source": [
    "### AIshell"
   ]
  },
  {
   "cell_type": "code",
   "execution_count": 66,
   "metadata": {},
   "outputs": [
    {
     "name": "stdout",
     "output_type": "stream",
     "text": [
      "/search/hadoop07/wuzijun/voice_data/Biaobei/Wave/002937.wav|shi4 zhu3 ren2 zai4 cao1 zong4 wo3 de5 xin1 yo5\n",
      "/search/hadoop07/wuzijun/voice_data/Biaobei/Wave/008617.wav|gou4 fang2 he2 tong4 bai3 zai4 zhuo1 shang4 mai3 jia1 hu2 bing1 chi2 yi2 pian4 ke4 yao3 le5 yao2 zui3 chun2 qian1 ming2 cheng2 jiao1\n",
      "/search/hadoop07/wuzijun/voice_data/Biaobei/Wave/007130.wav|di4 shi2 jie4 shi4 ji4 lv4 jian3 cha2 wei3 yuan2 hui4 quan2 ti2 wei3 yuan2 lie4 xi2 le5 hui4 yi4\n"
     ]
    }
   ],
   "source": [
    "!head -3 /search/hadoop07/wuzijun/voice_data/Biaobei/audio_text_val_filelist.txt"
   ]
  },
  {
   "cell_type": "code",
   "execution_count": 13,
   "metadata": {},
   "outputs": [],
   "source": [
    "path_aishell = '/search/hadoop07/wuzijun/voice_data/AIshell'"
   ]
  },
  {
   "cell_type": "code",
   "execution_count": 70,
   "metadata": {
    "scrolled": true
   },
   "outputs": [
    {
     "name": "stdout",
     "output_type": "stream",
     "text": [
      "总用量 55780\n",
      "-rw-r--r-- 1 suanfa 192012 6月  13 2017 \u001b[0m\u001b[01;36mBAC009S0002W0122.wav\u001b[0m\n",
      "-rw-r--r-- 1 suanfa 123724 6月  13 2017 \u001b[01;36mBAC009S0002W0123.wav\u001b[0m\n",
      "-rw-r--r-- 1 suanfa 173132 6月  13 2017 \u001b[01;36mBAC009S0002W0124.wav\u001b[0m\n",
      "-rw-r--r-- 1 suanfa 101388 6月  13 2017 \u001b[01;36mBAC009S0002W0125.wav\u001b[0m\n",
      "-rw-r--r-- 1 suanfa  82476 6月  13 2017 \u001b[01;36mBAC009S0002W0126.wav\u001b[0m\n",
      "-rw-r--r-- 1 suanfa 188524 6月  13 2017 \u001b[01;36mBAC009S0002W0127.wav\u001b[0m\n",
      "-rw-r--r-- 1 suanfa 108620 6月  13 2017 \u001b[01;36mBAC009S0002W0128.wav\u001b[0m\n",
      "-rw-r--r-- 1 suanfa 196396 6月  13 2017 \u001b[01;36mBAC009S0002W0129.wav\u001b[0m\n",
      "-rw-r--r-- 1 suanfa 132204 6月  13 2017 \u001b[01;36mBAC009S0002W0130.wav\u001b[0m\n",
      "-rw-r--r-- 1 suanfa 141036 6月  13 2017 \u001b[01;36mBAC009S0002W0131.wav\u001b[0m\n",
      "-rw-r--r-- 1 suanfa 216556 6月  13 2017 \u001b[01;36mBAC009S0002W0132.wav\u001b[0m\n",
      "-rw-r--r-- 1 suanfa 298380 6月  13 2017 \u001b[01;36mBAC009S0002W0133.wav\u001b[0m\n",
      "-rw-r--r-- 1 suanfa 233228 6月  13 2017 \u001b[01;36mBAC009S0002W0134.wav\u001b[0m\n",
      "-rw-r--r-- 1 suanfa 228844 6月  13 2017 \u001b[01;36mBAC009S0002W0135.wav\u001b[0m\n",
      "-rw-r--r-- 1 suanfa 202380 6月  13 2017 \u001b[01;36mBAC009S0002W0136.wav\u001b[0m\n",
      "-rw-r--r-- 1 suanfa 231980 6月  13 2017 \u001b[01;36mBAC009S0002W0137.wav\u001b[0m\n",
      "-rw-r--r-- 1 suanfa 206478 6月  13 2017 \u001b[01;36mBAC009S0002W0138.wav\u001b[0m\n",
      "-rw-r--r-- 1 suanfa 218732 6月  13 2017 \u001b[01;36mBAC009S0002W0139.wav\u001b[0m\n",
      "-rw-r--r-- 1 suanfa 244236 6月  13 2017 \u001b[01;36mBAC009S0002W0140.wav\u001b[0m\n",
      "-rw-r--r-- 1 suanfa 164940 6月  13 2017 \u001b[01;36mBAC009S0002W0141.wav\u001b[0m\n",
      "-rw-r--r-- 1 suanfa  81548 6月  13 2017 \u001b[01;36mBAC009S0002W0142.wav\u001b[0m\n",
      "-rw-r--r-- 1 suanfa 269100 6月  13 2017 \u001b[01;36mBAC009S0002W0143.wav\u001b[0m\n",
      "-rw-r--r-- 1 suanfa 145740 6月  13 2017 \u001b[01;36mBAC009S0002W0144.wav\u001b[0m\n",
      "-rw-r--r-- 1 suanfa 273196 6月  13 2017 \u001b[01;36mBAC009S0002W0145.wav\u001b[0m\n",
      "-rw-r--r-- 1 suanfa 116490 6月  13 2017 \u001b[01;36mBAC009S0002W0146.wav\u001b[0m\n",
      "-rw-r--r-- 1 suanfa 128428 6月  13 2017 \u001b[01;36mBAC009S0002W0147.wav\u001b[0m\n",
      "-rw-r--r-- 1 suanfa 187884 6月  13 2017 \u001b[01;36mBAC009S0002W0148.wav\u001b[0m\n",
      "-rw-r--r-- 1 suanfa 239276 6月  13 2017 \u001b[01;36mBAC009S0002W0149.wav\u001b[0m\n",
      "-rw-r--r-- 1 suanfa 114284 6月  13 2017 \u001b[01;36mBAC009S0002W0150.wav\u001b[0m\n",
      "-rw-r--r-- 1 suanfa 168460 6月  13 2017 \u001b[01;36mBAC009S0002W0151.wav\u001b[0m\n",
      "-rw-r--r-- 1 suanfa 115820 6月  13 2017 \u001b[01;36mBAC009S0002W0152.wav\u001b[0m\n",
      "-rw-r--r-- 1 suanfa 194188 6月  13 2017 \u001b[01;36mBAC009S0002W0153.wav\u001b[0m\n",
      "-rw-r--r-- 1 suanfa 100748 6月  13 2017 \u001b[01;36mBAC009S0002W0154.wav\u001b[0m\n",
      "-rw-r--r-- 1 suanfa 133166 6月  13 2017 \u001b[01;36mBAC009S0002W0155.wav\u001b[0m\n",
      "-rw-r--r-- 1 suanfa 141674 6月  13 2017 \u001b[01;36mBAC009S0002W0156.wav\u001b[0m\n",
      "-rw-r--r-- 1 suanfa  89098 6月  13 2017 \u001b[01;36mBAC009S0002W0157.wav\u001b[0m\n",
      "-rw-r--r-- 1 suanfa 137548 6月  13 2017 \u001b[01;36mBAC009S0002W0158.wav\u001b[0m\n",
      "-rw-r--r-- 1 suanfa 112364 6月  13 2017 \u001b[01;36mBAC009S0002W0159.wav\u001b[0m\n",
      "-rw-r--r-- 1 suanfa 116172 6月  13 2017 \u001b[01;36mBAC009S0002W0160.wav\u001b[0m\n",
      "-rw-r--r-- 1 suanfa 194540 6月  13 2017 \u001b[01;36mBAC009S0002W0161.wav\u001b[0m\n",
      "-rw-r--r-- 1 suanfa 104846 6月  13 2017 \u001b[01;36mBAC009S0002W0162.wav\u001b[0m\n",
      "-rw-r--r-- 1 suanfa 127822 6月  13 2017 \u001b[01;36mBAC009S0002W0163.wav\u001b[0m\n",
      "-rw-r--r-- 1 suanfa 139434 6月  13 2017 \u001b[01;36mBAC009S0002W0164.wav\u001b[0m\n",
      "-rw-r--r-- 1 suanfa 154252 6月  13 2017 \u001b[01;36mBAC009S0002W0165.wav\u001b[0m\n",
      "-rw-r--r-- 1 suanfa 121196 6月  13 2017 \u001b[01;36mBAC009S0002W0166.wav\u001b[0m\n",
      "-rw-r--r-- 1 suanfa 197674 6月  13 2017 \u001b[01;36mBAC009S0002W0167.wav\u001b[0m\n",
      "-rw-r--r-- 1 suanfa 186636 6月  13 2017 \u001b[01;36mBAC009S0002W0168.wav\u001b[0m\n",
      "-rw-r--r-- 1 suanfa  96972 6月  13 2017 \u001b[01;36mBAC009S0002W0169.wav\u001b[0m\n",
      "-rw-r--r-- 1 suanfa  96652 6月  13 2017 \u001b[01;36mBAC009S0002W0170.wav\u001b[0m\n",
      "-rw-r--r-- 1 suanfa 149516 6月  13 2017 \u001b[01;36mBAC009S0002W0171.wav\u001b[0m\n",
      "-rw-r--r-- 1 suanfa 168716 6月  13 2017 \u001b[01;36mBAC009S0002W0172.wav\u001b[0m\n",
      "-rw-r--r-- 1 suanfa 208748 6月  13 2017 \u001b[01;36mBAC009S0002W0173.wav\u001b[0m\n",
      "-rw-r--r-- 1 suanfa 159148 6月  13 2017 \u001b[01;36mBAC009S0002W0174.wav\u001b[0m\n",
      "-rw-r--r-- 1 suanfa 116908 6月  13 2017 \u001b[01;36mBAC009S0002W0175.wav\u001b[0m\n",
      "-rw-r--r-- 1 suanfa 198090 6月  13 2017 \u001b[01;36mBAC009S0002W0176.wav\u001b[0m\n",
      "-rw-r--r-- 1 suanfa 199276 6月  13 2017 \u001b[01;36mBAC009S0002W0177.wav\u001b[0m\n",
      "-rw-r--r-- 1 suanfa 262668 6月  13 2017 \u001b[01;36mBAC009S0002W0178.wav\u001b[0m\n",
      "-rw-r--r-- 1 suanfa  89484 6月  13 2017 \u001b[01;36mBAC009S0002W0179.wav\u001b[0m\n",
      "-rw-r--r-- 1 suanfa 164268 6月  13 2017 \u001b[01;36mBAC009S0002W0180.wav\u001b[0m\n",
      "-rw-r--r-- 1 suanfa 220078 6月  13 2017 \u001b[01;36mBAC009S0002W0181.wav\u001b[0m\n",
      "-rw-r--r-- 1 suanfa 101548 6月  13 2017 \u001b[01;36mBAC009S0002W0182.wav\u001b[0m\n",
      "-rw-r--r-- 1 suanfa 143884 6月  13 2017 \u001b[01;36mBAC009S0002W0183.wav\u001b[0m\n",
      "-rw-r--r-- 1 suanfa 202124 6月  13 2017 \u001b[01;36mBAC009S0002W0184.wav\u001b[0m\n",
      "-rw-r--r-- 1 suanfa 143178 6月  13 2017 \u001b[01;36mBAC009S0002W0185.wav\u001b[0m\n",
      "-rw-r--r-- 1 suanfa 184620 6月  13 2017 \u001b[01;36mBAC009S0002W0186.wav\u001b[0m\n",
      "-rw-r--r-- 1 suanfa 119532 6月  13 2017 \u001b[01;36mBAC009S0002W0187.wav\u001b[0m\n",
      "-rw-r--r-- 1 suanfa  98956 6月  13 2017 \u001b[01;36mBAC009S0002W0188.wav\u001b[0m\n",
      "-rw-r--r-- 1 suanfa 101548 6月  13 2017 \u001b[01;36mBAC009S0002W0189.wav\u001b[0m\n",
      "-rw-r--r-- 1 suanfa 180814 6月  13 2017 \u001b[01;36mBAC009S0002W0190.wav\u001b[0m\n",
      "-rw-r--r-- 1 suanfa 110540 6月  13 2017 \u001b[01;36mBAC009S0002W0192.wav\u001b[0m\n",
      "-rw-r--r-- 1 suanfa 230028 6月  13 2017 \u001b[01;36mBAC009S0002W0193.wav\u001b[0m\n",
      "-rw-r--r-- 1 suanfa  91850 6月  13 2017 \u001b[01;36mBAC009S0002W0194.wav\u001b[0m\n",
      "-rw-r--r-- 1 suanfa 208972 6月  13 2017 \u001b[01;36mBAC009S0002W0195.wav\u001b[0m\n",
      "-rw-r--r-- 1 suanfa 106540 6月  13 2017 \u001b[01;36mBAC009S0002W0196.wav\u001b[0m\n",
      "-rw-r--r-- 1 suanfa 114090 6月  13 2017 \u001b[01;36mBAC009S0002W0197.wav\u001b[0m\n",
      "-rw-r--r-- 1 suanfa 102732 6月  13 2017 \u001b[01;36mBAC009S0002W0198.wav\u001b[0m\n",
      "-rw-r--r-- 1 suanfa 148172 6月  13 2017 \u001b[01;36mBAC009S0002W0199.wav\u001b[0m\n",
      "-rw-r--r-- 1 suanfa 118570 6月  13 2017 \u001b[01;36mBAC009S0002W0200.wav\u001b[0m\n",
      "-rw-r--r-- 1 suanfa 106988 6月  13 2017 \u001b[01;36mBAC009S0002W0201.wav\u001b[0m\n",
      "-rw-r--r-- 1 suanfa 133742 6月  13 2017 \u001b[01;36mBAC009S0002W0202.wav\u001b[0m\n",
      "-rw-r--r-- 1 suanfa  97354 6月  13 2017 \u001b[01;36mBAC009S0002W0203.wav\u001b[0m\n",
      "-rw-r--r-- 1 suanfa 102990 6月  13 2017 \u001b[01;36mBAC009S0002W0204.wav\u001b[0m\n",
      "-rw-r--r-- 1 suanfa 127820 6月  13 2017 \u001b[01;36mBAC009S0002W0205.wav\u001b[0m\n",
      "-rw-r--r-- 1 suanfa 192170 6月  13 2017 \u001b[01;36mBAC009S0002W0206.wav\u001b[0m\n",
      "-rw-r--r-- 1 suanfa 115532 6月  13 2017 \u001b[01;36mBAC009S0002W0207.wav\u001b[0m\n",
      "-rw-r--r-- 1 suanfa 154796 6月  13 2017 \u001b[01;36mBAC009S0002W0208.wav\u001b[0m\n",
      "-rw-r--r-- 1 suanfa 197934 6月  13 2017 \u001b[01;36mBAC009S0002W0209.wav\u001b[0m\n",
      "-rw-r--r-- 1 suanfa 141962 6月  13 2017 \u001b[01;36mBAC009S0002W0210.wav\u001b[0m\n",
      "-rw-r--r-- 1 suanfa 219052 6月  13 2017 \u001b[01;36mBAC009S0002W0211.wav\u001b[0m\n",
      "-rw-r--r-- 1 suanfa 265642 6月  13 2017 \u001b[01;36mBAC009S0002W0212.wav\u001b[0m\n",
      "-rw-r--r-- 1 suanfa 202700 6月  13 2017 \u001b[01;36mBAC009S0002W0213.wav\u001b[0m\n",
      "-rw-r--r-- 1 suanfa 103594 6月  13 2017 \u001b[01;36mBAC009S0002W0214.wav\u001b[0m\n",
      "-rw-r--r-- 1 suanfa 138540 6月  13 2017 \u001b[01;36mBAC009S0002W0215.wav\u001b[0m\n",
      "-rw-r--r-- 1 suanfa 161196 6月  13 2017 \u001b[01;36mBAC009S0002W0216.wav\u001b[0m\n",
      "-rw-r--r-- 1 suanfa 124970 6月  13 2017 \u001b[01;36mBAC009S0002W0217.wav\u001b[0m\n",
      "-rw-r--r-- 1 suanfa 248044 6月  13 2017 \u001b[01;36mBAC009S0002W0218.wav\u001b[0m\n",
      "-rw-r--r-- 1 suanfa 252748 6月  13 2017 \u001b[01;36mBAC009S0002W0219.wav\u001b[0m\n",
      "-rw-r--r-- 1 suanfa 191372 6月  13 2017 \u001b[01;36mBAC009S0002W0220.wav\u001b[0m\n",
      "-rw-r--r-- 1 suanfa 209004 6月  13 2017 \u001b[01;36mBAC009S0002W0221.wav\u001b[0m\n",
      "-rw-r--r-- 1 suanfa 124648 6月  13 2017 \u001b[01;36mBAC009S0002W0222.wav\u001b[0m\n",
      "-rw-r--r-- 1 suanfa 124970 6月  13 2017 \u001b[01;36mBAC009S0002W0223.wav\u001b[0m\n",
      "-rw-r--r-- 1 suanfa 135982 6月  13 2017 \u001b[01;36mBAC009S0002W0224.wav\u001b[0m\n",
      "-rw-r--r-- 1 suanfa 199564 6月  13 2017 \u001b[01;36mBAC009S0002W0225.wav\u001b[0m\n",
      "-rw-r--r-- 1 suanfa 152970 6月  13 2017 \u001b[01;36mBAC009S0002W0226.wav\u001b[0m\n",
      "-rw-r--r-- 1 suanfa 152044 6月  13 2017 \u001b[01;36mBAC009S0002W0227.wav\u001b[0m\n",
      "-rw-r--r-- 1 suanfa 101678 6月  13 2017 \u001b[01;36mBAC009S0002W0228.wav\u001b[0m\n",
      "-rw-r--r-- 1 suanfa 145740 6月  13 2017 \u001b[01;36mBAC009S0002W0229.wav\u001b[0m\n",
      "-rw-r--r-- 1 suanfa 112364 6月  13 2017 \u001b[01;36mBAC009S0002W0230.wav\u001b[0m\n",
      "-rw-r--r-- 1 suanfa 135982 6月  13 2017 \u001b[01;36mBAC009S0002W0231.wav\u001b[0m\n",
      "-rw-r--r-- 1 suanfa 150158 6月  13 2017 \u001b[01;36mBAC009S0002W0232.wav\u001b[0m\n",
      "-rw-r--r-- 1 suanfa 122766 6月  13 2017 \u001b[01;36mBAC009S0002W0233.wav\u001b[0m\n",
      "-rw-r--r-- 1 suanfa 192938 6月  13 2017 \u001b[01;36mBAC009S0002W0234.wav\u001b[0m\n",
      "-rw-r--r-- 1 suanfa 118060 6月  13 2017 \u001b[01;36mBAC009S0002W0235.wav\u001b[0m\n",
      "-rw-r--r-- 1 suanfa 109868 6月  13 2017 \u001b[01;36mBAC009S0002W0236.wav\u001b[0m\n",
      "-rw-r--r-- 1 suanfa 182540 6月  13 2017 \u001b[01;36mBAC009S0002W0237.wav\u001b[0m\n",
      "-rw-r--r-- 1 suanfa 136938 6月  13 2017 \u001b[01;36mBAC009S0002W0238.wav\u001b[0m\n",
      "-rw-r--r-- 1 suanfa 131594 6月  13 2017 \u001b[01;36mBAC009S0002W0239.wav\u001b[0m\n",
      "-rw-r--r-- 1 suanfa 259016 6月  13 2017 \u001b[01;36mBAC009S0002W0240.wav\u001b[0m\n",
      "-rw-r--r-- 1 suanfa 197356 6月  13 2017 \u001b[01;36mBAC009S0002W0241.wav\u001b[0m\n",
      "-rw-r--r-- 1 suanfa 200494 6月  13 2017 \u001b[01;36mBAC009S0002W0242.wav\u001b[0m\n",
      "-rw-r--r-- 1 suanfa 142602 6月  13 2017 \u001b[01;36mBAC009S0002W0243.wav\u001b[0m\n",
      "-rw-r--r-- 1 suanfa 120876 6月  13 2017 \u001b[01;36mBAC009S0002W0244.wav\u001b[0m\n",
      "-rw-r--r-- 1 suanfa 193900 6月  13 2017 \u001b[01;36mBAC009S0002W0245.wav\u001b[0m\n",
      "-rw-r--r-- 1 suanfa 163692 6月  13 2017 \u001b[01;36mBAC009S0002W0246.wav\u001b[0m\n",
      "-rw-r--r-- 1 suanfa 253068 6月  13 2017 \u001b[01;36mBAC009S0002W0247.wav\u001b[0m\n",
      "-rw-r--r-- 1 suanfa 119946 6月  13 2017 \u001b[01;36mBAC009S0002W0248.wav\u001b[0m\n",
      "-rw-r--r-- 1 suanfa 199242 6月  13 2017 \u001b[01;36mBAC009S0002W0249.wav\u001b[0m\n",
      "-rw-r--r-- 1 suanfa 148908 6月  13 2017 \u001b[01;36mBAC009S0002W0250.wav\u001b[0m\n",
      "-rw-r--r-- 1 suanfa 165580 6月  13 2017 \u001b[01;36mBAC009S0002W0251.wav\u001b[0m\n",
      "-rw-r--r-- 1 suanfa 142286 6月  13 2017 \u001b[01;36mBAC009S0002W0252.wav\u001b[0m\n",
      "-rw-r--r-- 1 suanfa 210572 6月  13 2017 \u001b[01;36mBAC009S0002W0255.wav\u001b[0m\n",
      "-rw-r--r-- 1 suanfa 252426 6月  13 2017 \u001b[01;36mBAC009S0002W0257.wav\u001b[0m\n",
      "-rw-r--r-- 1 suanfa 169676 6月  13 2017 \u001b[01;36mBAC009S0002W0258.wav\u001b[0m\n",
      "-rw-r--r-- 1 suanfa 107052 6月  13 2017 \u001b[01;36mBAC009S0002W0259.wav\u001b[0m\n",
      "-rw-r--r-- 1 suanfa 195466 6月  13 2017 \u001b[01;36mBAC009S0002W0261.wav\u001b[0m\n",
      "-rw-r--r-- 1 suanfa 217166 6月  13 2017 \u001b[01;36mBAC009S0002W0262.wav\u001b[0m\n",
      "-rw-r--r-- 1 suanfa 130954 6月  13 2017 \u001b[01;36mBAC009S0002W0263.wav\u001b[0m\n",
      "-rw-r--r-- 1 suanfa  82986 6月  13 2017 \u001b[01;36mBAC009S0002W0264.wav\u001b[0m\n",
      "-rw-r--r-- 1 suanfa 102892 6月  13 2017 \u001b[01;36mBAC009S0002W0265.wav\u001b[0m\n",
      "-rw-r--r-- 1 suanfa  95790 6月  13 2017 \u001b[01;36mBAC009S0002W0266.wav\u001b[0m\n",
      "-rw-r--r-- 1 suanfa 149420 6月  13 2017 \u001b[01;36mBAC009S0002W0267.wav\u001b[0m\n",
      "-rw-r--r-- 1 suanfa 187146 6月  13 2017 \u001b[01;36mBAC009S0002W0268.wav\u001b[0m\n",
      "-rw-r--r-- 1 suanfa 187150 6月  13 2017 \u001b[01;36mBAC009S0002W0269.wav\u001b[0m\n",
      "-rw-r--r-- 1 suanfa  54990 6月  13 2017 \u001b[01;36mBAC009S0002W0270.wav\u001b[0m\n",
      "-rw-r--r-- 1 suanfa 158830 6月  13 2017 \u001b[01;36mBAC009S0002W0271.wav\u001b[0m\n",
      "-rw-r--r-- 1 suanfa  43052 6月  13 2017 \u001b[01;36mBAC009S0002W0272.wav\u001b[0m\n",
      "-rw-r--r-- 1 suanfa 143340 6月  13 2017 \u001b[01;36mBAC009S0002W0273.wav\u001b[0m\n",
      "-rw-r--r-- 1 suanfa 227946 6月  13 2017 \u001b[01;36mBAC009S0002W0274.wav\u001b[0m\n",
      "-rw-r--r-- 1 suanfa  87372 6月  13 2017 \u001b[01;36mBAC009S0002W0275.wav\u001b[0m\n",
      "-rw-r--r-- 1 suanfa 147724 6月  13 2017 \u001b[01;36mBAC009S0002W0276.wav\u001b[0m\n",
      "-rw-r--r-- 1 suanfa 194252 6月  13 2017 \u001b[01;36mBAC009S0002W0277.wav\u001b[0m\n",
      "-rw-r--r-- 1 suanfa 204008 6月  13 2017 \u001b[01;36mBAC009S0002W0278.wav\u001b[0m\n",
      "-rw-r--r-- 1 suanfa  53646 6月  13 2017 \u001b[01;36mBAC009S0002W0279.wav\u001b[0m\n",
      "-rw-r--r-- 1 suanfa  60044 6月  13 2017 \u001b[01;36mBAC009S0002W0280.wav\u001b[0m\n",
      "-rw-r--r-- 1 suanfa 111982 6月  13 2017 \u001b[01;36mBAC009S0002W0281.wav\u001b[0m\n",
      "-rw-r--r-- 1 suanfa  79594 6月  13 2017 \u001b[01;36mBAC009S0002W0282.wav\u001b[0m\n",
      "-rw-r--r-- 1 suanfa 135916 6月  13 2017 \u001b[01;36mBAC009S0002W0283.wav\u001b[0m\n",
      "-rw-r--r-- 1 suanfa 137962 6月  13 2017 \u001b[01;36mBAC009S0002W0284.wav\u001b[0m\n",
      "-rw-r--r-- 1 suanfa 208076 6月  13 2017 \u001b[01;36mBAC009S0002W0285.wav\u001b[0m\n",
      "-rw-r--r-- 1 suanfa  66478 6月  13 2017 \u001b[01;36mBAC009S0002W0286.wav\u001b[0m\n",
      "-rw-r--r-- 1 suanfa  49614 6月  13 2017 \u001b[01;36mBAC009S0002W0287.wav\u001b[0m\n",
      "-rw-r--r-- 1 suanfa  51978 6月  13 2017 \u001b[01;36mBAC009S0002W0288.wav\u001b[0m\n",
      "-rw-r--r-- 1 suanfa 132876 6月  13 2017 \u001b[01;36mBAC009S0002W0289.wav\u001b[0m\n",
      "-rw-r--r-- 1 suanfa  58028 6月  13 2017 \u001b[01;36mBAC009S0002W0290.wav\u001b[0m\n",
      "-rw-r--r-- 1 suanfa  49614 6月  13 2017 \u001b[01;36mBAC009S0002W0291.wav\u001b[0m\n",
      "-rw-r--r-- 1 suanfa 134220 6月  13 2017 \u001b[01;36mBAC009S0002W0292.wav\u001b[0m\n",
      "-rw-r--r-- 1 suanfa 127852 6月  13 2017 \u001b[01;36mBAC009S0002W0293.wav\u001b[0m\n",
      "-rw-r--r-- 1 suanfa  89388 6月  13 2017 \u001b[01;36mBAC009S0002W0294.wav\u001b[0m\n",
      "-rw-r--r-- 1 suanfa 142314 6月  13 2017 \u001b[01;36mBAC009S0002W0295.wav\u001b[0m\n",
      "-rw-r--r-- 1 suanfa 189868 6月  13 2017 \u001b[01;36mBAC009S0002W0296.wav\u001b[0m\n",
      "-rw-r--r-- 1 suanfa  78922 6月  13 2017 \u001b[01;36mBAC009S0002W0297.wav\u001b[0m\n",
      "-rw-r--r-- 1 suanfa 126508 6月  13 2017 \u001b[01;36mBAC009S0002W0298.wav\u001b[0m\n",
      "-rw-r--r-- 1 suanfa  87372 6月  13 2017 \u001b[01;36mBAC009S0002W0299.wav\u001b[0m\n",
      "-rw-r--r-- 1 suanfa 128488 6月  13 2017 \u001b[01;36mBAC009S0002W0300.wav\u001b[0m\n",
      "-rw-r--r-- 1 suanfa 295052 6月  13 2017 \u001b[01;36mBAC009S0002W0301.wav\u001b[0m\n",
      "-rw-r--r-- 1 suanfa  47242 6月  13 2017 \u001b[01;36mBAC009S0002W0302.wav\u001b[0m\n",
      "-rw-r--r-- 1 suanfa 103884 6月  13 2017 \u001b[01;36mBAC009S0002W0303.wav\u001b[0m\n",
      "-rw-r--r-- 1 suanfa 132204 6月  13 2017 \u001b[01;36mBAC009S0002W0304.wav\u001b[0m\n",
      "-rw-r--r-- 1 suanfa 171978 6月  13 2017 \u001b[01;36mBAC009S0002W0305.wav\u001b[0m\n",
      "-rw-r--r-- 1 suanfa 130188 6月  13 2017 \u001b[01;36mBAC009S0002W0306.wav\u001b[0m\n",
      "-rw-r--r-- 1 suanfa 194254 6月  13 2017 \u001b[01;36mBAC009S0002W0307.wav\u001b[0m\n",
      "-rw-r--r-- 1 suanfa 168272 6月  13 2017 \u001b[01;36mBAC009S0002W0308.wav\u001b[0m\n",
      "-rw-r--r-- 1 suanfa 127180 6月  13 2017 \u001b[01;36mBAC009S0002W0309.wav\u001b[0m\n",
      "-rw-r--r-- 1 suanfa 131532 6月  13 2017 \u001b[01;36mBAC009S0002W0310.wav\u001b[0m\n",
      "-rw-r--r-- 1 suanfa 163884 6月  13 2017 \u001b[01;36mBAC009S0002W0311.wav\u001b[0m\n",
      "-rw-r--r-- 1 suanfa 172328 6月  13 2017 \u001b[01;36mBAC009S0002W0312.wav\u001b[0m\n",
      "-rw-r--r-- 1 suanfa 129868 6月  13 2017 \u001b[01;36mBAC009S0002W0313.wav\u001b[0m\n",
      "-rw-r--r-- 1 suanfa 179408 6月  13 2017 \u001b[01;36mBAC009S0002W0314.wav\u001b[0m\n",
      "-rw-r--r-- 1 suanfa 115372 6月  13 2017 \u001b[01;36mBAC009S0002W0315.wav\u001b[0m\n",
      "-rw-r--r-- 1 suanfa 176716 6月  13 2017 \u001b[01;36mBAC009S0002W0316.wav\u001b[0m\n",
      "-rw-r--r-- 1 suanfa 141320 6月  13 2017 \u001b[01;36mBAC009S0002W0317.wav\u001b[0m\n",
      "-rw-r--r-- 1 suanfa 161196 6月  13 2017 \u001b[01;36mBAC009S0002W0318.wav\u001b[0m\n",
      "-rw-r--r-- 1 suanfa 165934 6月  13 2017 \u001b[01;36mBAC009S0002W0319.wav\u001b[0m\n",
      "-rw-r--r-- 1 suanfa 150736 6月  13 2017 \u001b[01;36mBAC009S0002W0320.wav\u001b[0m\n",
      "-rw-r--r-- 1 suanfa 117708 6月  13 2017 \u001b[01;36mBAC009S0002W0321.wav\u001b[0m\n",
      "-rw-r--r-- 1 suanfa 128172 6月  13 2017 \u001b[01;36mBAC009S0002W0322.wav\u001b[0m\n",
      "-rw-r--r-- 1 suanfa 160168 6月  13 2017 \u001b[01;36mBAC009S0002W0323.wav\u001b[0m\n",
      "-rw-r--r-- 1 suanfa 114344 6月  13 2017 \u001b[01;36mBAC009S0002W0324.wav\u001b[0m\n",
      "-rw-r--r-- 1 suanfa 123434 6月  13 2017 \u001b[01;36mBAC009S0002W0325.wav\u001b[0m\n",
      "-rw-r--r-- 1 suanfa 100490 6月  13 2017 \u001b[01;36mBAC009S0002W0326.wav\u001b[0m\n",
      "-rw-r--r-- 1 suanfa 159180 6月  13 2017 \u001b[01;36mBAC009S0002W0327.wav\u001b[0m\n",
      "-rw-r--r-- 1 suanfa 134572 6月  13 2017 \u001b[01;36mBAC009S0002W0328.wav\u001b[0m\n",
      "-rw-r--r-- 1 suanfa 100170 6月  13 2017 \u001b[01;36mBAC009S0002W0329.wav\u001b[0m\n",
      "-rw-r--r-- 1 suanfa 100844 6月  13 2017 \u001b[01;36mBAC009S0002W0330.wav\u001b[0m\n",
      "-rw-r--r-- 1 suanfa  97806 6月  13 2017 \u001b[01;36mBAC009S0002W0331.wav\u001b[0m\n",
      "-rw-r--r-- 1 suanfa 197962 6月  13 2017 \u001b[01;36mBAC009S0002W0332.wav\u001b[0m\n",
      "-rw-r--r-- 1 suanfa 199662 6月  13 2017 \u001b[01;36mBAC009S0002W0333.wav\u001b[0m\n",
      "-rw-r--r-- 1 suanfa  99180 6月  13 2017 \u001b[01;36mBAC009S0002W0334.wav\u001b[0m\n",
      "-rw-r--r-- 1 suanfa  97838 6月  13 2017 \u001b[01;36mBAC009S0002W0335.wav\u001b[0m\n",
      "-rw-r--r-- 1 suanfa 127150 6月  13 2017 \u001b[01;36mBAC009S0002W0336.wav\u001b[0m\n",
      "-rw-r--r-- 1 suanfa  98828 6月  13 2017 \u001b[01;36mBAC009S0002W0337.wav\u001b[0m\n",
      "-rw-r--r-- 1 suanfa 164908 6月  13 2017 \u001b[01;36mBAC009S0002W0338.wav\u001b[0m\n",
      "-rw-r--r-- 1 suanfa 147724 6月  13 2017 \u001b[01;36mBAC009S0002W0339.wav\u001b[0m\n",
      "-rw-r--r-- 1 suanfa 183114 6月  13 2017 \u001b[01;36mBAC009S0002W0340.wav\u001b[0m\n",
      "-rw-r--r-- 1 suanfa 142986 6月  13 2017 \u001b[01;36mBAC009S0002W0341.wav\u001b[0m\n",
      "-rw-r--r-- 1 suanfa 130860 6月  13 2017 \u001b[01;36mBAC009S0002W0342.wav\u001b[0m\n",
      "-rw-r--r-- 1 suanfa 150090 6月  13 2017 \u001b[01;36mBAC009S0002W0343.wav\u001b[0m\n",
      "-rw-r--r-- 1 suanfa 132204 6月  13 2017 \u001b[01;36mBAC009S0002W0344.wav\u001b[0m\n",
      "-rw-r--r-- 1 suanfa 136592 6月  13 2017 \u001b[01;36mBAC009S0002W0345.wav\u001b[0m\n",
      "-rw-r--r-- 1 suanfa 180432 6月  13 2017 \u001b[01;36mBAC009S0002W0346.wav\u001b[0m\n",
      "-rw-r--r-- 1 suanfa 226638 6月  13 2017 \u001b[01;36mBAC009S0002W0347.wav\u001b[0m\n",
      "-rw-r--r-- 1 suanfa 119756 6月  13 2017 \u001b[01;36mBAC009S0002W0348.wav\u001b[0m\n",
      "-rw-r--r-- 1 suanfa 265388 6月  13 2017 \u001b[01;36mBAC009S0002W0349.wav\u001b[0m\n",
      "-rw-r--r-- 1 suanfa 158860 6月  13 2017 \u001b[01;36mBAC009S0002W0350.wav\u001b[0m\n",
      "-rw-r--r-- 1 suanfa 137294 6月  13 2017 \u001b[01;36mBAC009S0002W0351.wav\u001b[0m\n",
      "-rw-r--r-- 1 suanfa 119724 6月  13 2017 \u001b[01;36mBAC009S0002W0352.wav\u001b[0m\n",
      "-rw-r--r-- 1 suanfa 174700 6月  13 2017 \u001b[01;36mBAC009S0002W0353.wav\u001b[0m\n",
      "-rw-r--r-- 1 suanfa 141998 6月  13 2017 \u001b[01;36mBAC009S0002W0354.wav\u001b[0m\n",
      "-rw-r--r-- 1 suanfa 177036 6月  13 2017 \u001b[01;36mBAC009S0002W0355.wav\u001b[0m\n",
      "-rw-r--r-- 1 suanfa 171626 6月  13 2017 \u001b[01;36mBAC009S0002W0356.wav\u001b[0m\n",
      "-rw-r--r-- 1 suanfa 157516 6月  13 2017 \u001b[01;36mBAC009S0002W0357.wav\u001b[0m\n",
      "-rw-r--r-- 1 suanfa 154798 6月  13 2017 \u001b[01;36mBAC009S0002W0358.wav\u001b[0m\n",
      "-rw-r--r-- 1 suanfa 177068 6月  13 2017 \u001b[01;36mBAC009S0002W0359.wav\u001b[0m\n",
      "-rw-r--r-- 1 suanfa 212782 6月  13 2017 \u001b[01;36mBAC009S0002W0360.wav\u001b[0m\n",
      "-rw-r--r-- 1 suanfa 107594 6月  13 2017 \u001b[01;36mBAC009S0002W0361.wav\u001b[0m\n",
      "-rw-r--r-- 1 suanfa 267724 6月  13 2017 \u001b[01;36mBAC009S0002W0362.wav\u001b[0m\n",
      "-rw-r--r-- 1 suanfa 307532 6月  13 2017 \u001b[01;36mBAC009S0002W0363.wav\u001b[0m\n",
      "-rw-r--r-- 1 suanfa 192556 6月  13 2017 \u001b[01;36mBAC009S0002W0364.wav\u001b[0m\n",
      "-rw-r--r-- 1 suanfa 134892 6月  13 2017 \u001b[01;36mBAC009S0002W0365.wav\u001b[0m\n",
      "-rw-r--r-- 1 suanfa 247176 6月  13 2017 \u001b[01;36mBAC009S0002W0366.wav\u001b[0m\n",
      "-rw-r--r-- 1 suanfa 150060 6月  13 2017 \u001b[01;36mBAC009S0002W0367.wav\u001b[0m\n",
      "-rw-r--r-- 1 suanfa 134246 6月  13 2017 \u001b[01;36mBAC009S0002W0368.wav\u001b[0m\n",
      "-rw-r--r-- 1 suanfa 112654 6月  13 2017 \u001b[01;36mBAC009S0002W0369.wav\u001b[0m\n",
      "-rw-r--r-- 1 suanfa 180426 6月  13 2017 \u001b[01;36mBAC009S0002W0370.wav\u001b[0m\n",
      "-rw-r--r-- 1 suanfa 148716 6月  13 2017 \u001b[01;36mBAC009S0002W0371.wav\u001b[0m\n",
      "-rw-r--r-- 1 suanfa 111310 6月  13 2017 \u001b[01;36mBAC009S0002W0372.wav\u001b[0m\n",
      "-rw-r--r-- 1 suanfa 178732 6月  13 2017 \u001b[01;36mBAC009S0002W0373.wav\u001b[0m\n",
      "-rw-r--r-- 1 suanfa 159848 6月  13 2017 \u001b[01;36mBAC009S0002W0374.wav\u001b[0m\n",
      "-rw-r--r-- 1 suanfa 178060 6月  13 2017 \u001b[01;36mBAC009S0002W0376.wav\u001b[0m\n",
      "-rw-r--r-- 1 suanfa 178380 6月  13 2017 \u001b[01;36mBAC009S0002W0377.wav\u001b[0m\n",
      "-rw-r--r-- 1 suanfa 120240 6月  13 2017 \u001b[01;36mBAC009S0002W0378.wav\u001b[0m\n",
      "-rw-r--r-- 1 suanfa 124106 6月  13 2017 \u001b[01;36mBAC009S0002W0379.wav\u001b[0m\n",
      "-rw-r--r-- 1 suanfa 252552 6月  13 2017 \u001b[01;36mBAC009S0002W0380.wav\u001b[0m\n",
      "-rw-r--r-- 1 suanfa 123122 6月  13 2017 \u001b[01;36mBAC009S0002W0382.wav\u001b[0m\n",
      "-rw-r--r-- 1 suanfa 111630 6月  13 2017 \u001b[01;36mBAC009S0002W0383.wav\u001b[0m\n",
      "-rw-r--r-- 1 suanfa 205708 6月  13 2017 \u001b[01;36mBAC009S0002W0384.wav\u001b[0m\n",
      "-rw-r--r-- 1 suanfa 102184 6月  13 2017 \u001b[01;36mBAC009S0002W0385.wav\u001b[0m\n",
      "-rw-r--r-- 1 suanfa 133896 6月  13 2017 \u001b[01;36mBAC009S0002W0386.wav\u001b[0m\n",
      "-rw-r--r-- 1 suanfa 169324 6月  13 2017 \u001b[01;36mBAC009S0002W0387.wav\u001b[0m\n",
      "-rw-r--r-- 1 suanfa 201998 6月  13 2017 \u001b[01;36mBAC009S0002W0388.wav\u001b[0m\n",
      "-rw-r--r-- 1 suanfa 157842 6月  13 2017 \u001b[01;36mBAC009S0002W0389.wav\u001b[0m\n",
      "-rw-r--r-- 1 suanfa 108622 6月  13 2017 \u001b[01;36mBAC009S0002W0390.wav\u001b[0m\n",
      "-rw-r--r-- 1 suanfa 125130 6月  13 2017 \u001b[01;36mBAC009S0002W0391.wav\u001b[0m\n",
      "-rw-r--r-- 1 suanfa 185450 6月  13 2017 \u001b[01;36mBAC009S0002W0392.wav\u001b[0m\n",
      "-rw-r--r-- 1 suanfa  97130 6月  13 2017 \u001b[01;36mBAC009S0002W0393.wav\u001b[0m\n",
      "-rw-r--r-- 1 suanfa 140974 6月  13 2017 \u001b[01;36mBAC009S0002W0395.wav\u001b[0m\n",
      "-rw-r--r-- 1 suanfa 175692 6月  13 2017 \u001b[01;36mBAC009S0002W0396.wav\u001b[0m\n",
      "-rw-r--r-- 1 suanfa 116044 6月  13 2017 \u001b[01;36mBAC009S0002W0397.wav\u001b[0m\n",
      "-rw-r--r-- 1 suanfa 126474 6月  13 2017 \u001b[01;36mBAC009S0002W0398.wav\u001b[0m\n",
      "-rw-r--r-- 1 suanfa 127474 6月  13 2017 \u001b[01;36mBAC009S0002W0400.wav\u001b[0m\n",
      "-rw-r--r-- 1 suanfa  96810 6月  13 2017 \u001b[01;36mBAC009S0002W0401.wav\u001b[0m\n",
      "-rw-r--r-- 1 suanfa 144684 6月  13 2017 \u001b[01;36mBAC009S0002W0402.wav\u001b[0m\n",
      "-rw-r--r-- 1 suanfa 129192 6月  13 2017 \u001b[01;36mBAC009S0002W0403.wav\u001b[0m\n",
      "-rw-r--r-- 1 suanfa  99146 6月  13 2017 \u001b[01;36mBAC009S0002W0404.wav\u001b[0m\n",
      "-rw-r--r-- 1 suanfa 103560 6月  13 2017 \u001b[01;36mBAC009S0002W0405.wav\u001b[0m\n",
      "-rw-r--r-- 1 suanfa  71848 6月  13 2017 \u001b[01;36mBAC009S0002W0406.wav\u001b[0m\n",
      "-rw-r--r-- 1 suanfa 128490 6月  13 2017 \u001b[01;36mBAC009S0002W0407.wav\u001b[0m\n",
      "-rw-r--r-- 1 suanfa 149388 6月  13 2017 \u001b[01;36mBAC009S0002W0408.wav\u001b[0m\n",
      "-rw-r--r-- 1 suanfa 139630 6月  13 2017 \u001b[01;36mBAC009S0002W0409.wav\u001b[0m\n",
      "-rw-r--r-- 1 suanfa 189192 6月  13 2017 \u001b[01;36mBAC009S0002W0410.wav\u001b[0m\n",
      "-rw-r--r-- 1 suanfa 109254 6月  13 2017 \u001b[01;36mBAC009S0002W0411.wav\u001b[0m\n",
      "-rw-r--r-- 1 suanfa 289998 6月  13 2017 \u001b[01;36mBAC009S0002W0412.wav\u001b[0m\n",
      "-rw-r--r-- 1 suanfa 160168 6月  13 2017 \u001b[01;36mBAC009S0002W0413.wav\u001b[0m\n",
      "-rw-r--r-- 1 suanfa 184106 6月  13 2017 \u001b[01;36mBAC009S0002W0414.wav\u001b[0m\n",
      "-rw-r--r-- 1 suanfa  74888 6月  13 2017 \u001b[01;36mBAC009S0002W0415.wav\u001b[0m\n",
      "-rw-r--r-- 1 suanfa  88012 6月  13 2017 \u001b[01;36mBAC009S0002W0416.wav\u001b[0m\n",
      "-rw-r--r-- 1 suanfa 134896 6月  13 2017 \u001b[01;36mBAC009S0002W0417.wav\u001b[0m\n",
      "-rw-r--r-- 1 suanfa 169966 6月  13 2017 \u001b[01;36mBAC009S0002W0418.wav\u001b[0m\n",
      "-rw-r--r-- 1 suanfa 159536 6月  13 2017 \u001b[01;36mBAC009S0002W0419.wav\u001b[0m\n",
      "-rw-r--r-- 1 suanfa 134888 6月  13 2017 \u001b[01;36mBAC009S0002W0420.wav\u001b[0m\n",
      "-rw-r--r-- 1 suanfa  71528 6月  13 2017 \u001b[01;36mBAC009S0002W0421.wav\u001b[0m\n",
      "-rw-r--r-- 1 suanfa  97130 6月  13 2017 \u001b[01;36mBAC009S0002W0422.wav\u001b[0m\n",
      "-rw-r--r-- 1 suanfa 185130 6月  13 2017 \u001b[01;36mBAC009S0002W0423.wav\u001b[0m\n",
      "-rw-r--r-- 1 suanfa 202700 6月  13 2017 \u001b[01;36mBAC009S0002W0424.wav\u001b[0m\n",
      "-rw-r--r-- 1 suanfa 121748 6月  13 2017 \u001b[01;36mBAC009S0002W0425.wav\u001b[0m\n",
      "-rw-r--r-- 1 suanfa 102536 6月  13 2017 \u001b[01;36mBAC009S0002W0426.wav\u001b[0m\n",
      "-rw-r--r-- 1 suanfa 146028 6月  13 2017 \u001b[01;36mBAC009S0002W0427.wav\u001b[0m\n",
      "-rw-r--r-- 1 suanfa 102896 6月  13 2017 \u001b[01;36mBAC009S0002W0428.wav\u001b[0m\n",
      "-rw-r--r-- 1 suanfa 120426 6月  13 2017 \u001b[01;36mBAC009S0002W0429.wav\u001b[0m\n",
      "-rw-r--r-- 1 suanfa 220200 6月  13 2017 \u001b[01;36mBAC009S0002W0430.wav\u001b[0m\n",
      "-rw-r--r-- 1 suanfa 197934 6月  13 2017 \u001b[01;36mBAC009S0002W0431.wav\u001b[0m\n",
      "-rw-r--r-- 1 suanfa 220872 6月  13 2017 \u001b[01;36mBAC009S0002W0432.wav\u001b[0m\n",
      "-rw-r--r-- 1 suanfa 142660 6月  13 2017 \u001b[01;36mBAC009S0002W0433.wav\u001b[0m\n",
      "-rw-r--r-- 1 suanfa 123434 6月  13 2017 \u001b[01;36mBAC009S0002W0434.wav\u001b[0m\n",
      "-rw-r--r-- 1 suanfa 268106 6月  13 2017 \u001b[01;36mBAC009S0002W0435.wav\u001b[0m\n",
      "-rw-r--r-- 1 suanfa 206732 6月  13 2017 \u001b[01;36mBAC009S0002W0436.wav\u001b[0m\n",
      "-rw-r--r-- 1 suanfa 100872 6月  13 2017 \u001b[01;36mBAC009S0002W0437.wav\u001b[0m\n",
      "-rw-r--r-- 1 suanfa 186154 6月  13 2017 \u001b[01;36mBAC009S0002W0438.wav\u001b[0m\n",
      "-rw-r--r-- 1 suanfa 238028 6月  13 2017 \u001b[01;36mBAC009S0002W0439.wav\u001b[0m\n",
      "-rw-r--r-- 1 suanfa 223920 6月  13 2017 \u001b[01;36mBAC009S0002W0440.wav\u001b[0m\n",
      "-rw-r--r-- 1 suanfa 105584 6月  13 2017 \u001b[01;36mBAC009S0002W0441.wav\u001b[0m\n",
      "-rw-r--r-- 1 suanfa 182824 6月  13 2017 \u001b[01;36mBAC009S0002W0442.wav\u001b[0m\n",
      "-rw-r--r-- 1 suanfa 147082 6月  13 2017 \u001b[01;36mBAC009S0002W0443.wav\u001b[0m\n",
      "-rw-r--r-- 1 suanfa 155020 6月  13 2017 \u001b[01;36mBAC009S0002W0444.wav\u001b[0m\n",
      "-rw-r--r-- 1 suanfa 214638 6月  13 2017 \u001b[01;36mBAC009S0002W0445.wav\u001b[0m\n",
      "-rw-r--r-- 1 suanfa 185490 6月  13 2017 \u001b[01;36mBAC009S0002W0446.wav\u001b[0m\n",
      "-rw-r--r-- 1 suanfa 243340 6月  13 2017 \u001b[01;36mBAC009S0002W0447.wav\u001b[0m\n",
      "-rw-r--r-- 1 suanfa 240232 6月  13 2017 \u001b[01;36mBAC009S0002W0448.wav\u001b[0m\n",
      "-rw-r--r-- 1 suanfa 181068 6月  13 2017 \u001b[01;36mBAC009S0002W0449.wav\u001b[0m\n",
      "-rw-r--r-- 1 suanfa 150606 6月  13 2017 \u001b[01;36mBAC009S0002W0450.wav\u001b[0m\n",
      "-rw-r--r-- 1 suanfa 200520 6月  13 2017 \u001b[01;36mBAC009S0002W0451.wav\u001b[0m\n",
      "-rw-r--r-- 1 suanfa 119240 6月  13 2017 \u001b[01;36mBAC009S0002W0452.wav\u001b[0m\n",
      "-rw-r--r-- 1 suanfa 154574 6月  13 2017 \u001b[01;36mBAC009S0002W0453.wav\u001b[0m\n",
      "-rw-r--r-- 1 suanfa 121036 6月  13 2017 \u001b[01;36mBAC009S0002W0454.wav\u001b[0m\n",
      "-rw-r--r-- 1 suanfa 118348 6月  13 2017 \u001b[01;36mBAC009S0002W0455.wav\u001b[0m\n",
      "-rw-r--r-- 1 suanfa 288364 6月  13 2017 \u001b[01;36mBAC009S0002W0456.wav\u001b[0m\n",
      "-rw-r--r-- 1 suanfa 130278 6月  13 2017 \u001b[01;36mBAC009S0002W0457.wav\u001b[0m\n",
      "-rw-r--r-- 1 suanfa 149738 6月  13 2017 \u001b[01;36mBAC009S0002W0458.wav\u001b[0m\n",
      "-rw-r--r-- 1 suanfa 241130 6月  13 2017 \u001b[01;36mBAC009S0002W0459.wav\u001b[0m\n",
      "-rw-r--r-- 1 suanfa 180654 6月  13 2017 \u001b[01;36mBAC009S0002W0460.wav\u001b[0m\n",
      "-rw-r--r-- 1 suanfa 128966 6月  13 2017 \u001b[01;36mBAC009S0002W0461.wav\u001b[0m\n",
      "-rw-r--r-- 1 suanfa 100684 6月  13 2017 \u001b[01;36mBAC009S0002W0462.wav\u001b[0m\n",
      "-rw-r--r-- 1 suanfa 146184 6月  13 2017 \u001b[01;36mBAC009S0002W0463.wav\u001b[0m\n",
      "-rw-r--r-- 1 suanfa 109098 6月  13 2017 \u001b[01;36mBAC009S0002W0464.wav\u001b[0m\n",
      "-rw-r--r-- 1 suanfa 237162 6月  13 2017 \u001b[01;36mBAC009S0002W0465.wav\u001b[0m\n",
      "-rw-r--r-- 1 suanfa 214568 6月  13 2017 \u001b[01;36mBAC009S0002W0466.wav\u001b[0m\n",
      "-rw-r--r-- 1 suanfa 168106 6月  13 2017 \u001b[01;36mBAC009S0002W0467.wav\u001b[0m\n",
      "-rw-r--r-- 1 suanfa 130512 6月  13 2017 \u001b[01;36mBAC009S0002W0468.wav\u001b[0m\n",
      "-rw-r--r-- 1 suanfa 182896 6月  13 2017 \u001b[01;36mBAC009S0002W0469.wav\u001b[0m\n",
      "-rw-r--r-- 1 suanfa 143888 6月  13 2017 \u001b[01;36mBAC009S0002W0470.wav\u001b[0m\n",
      "-rw-r--r-- 1 suanfa 247434 6月  13 2017 \u001b[01;36mBAC009S0002W0471.wav\u001b[0m\n",
      "-rw-r--r-- 1 suanfa 222098 6月  13 2017 \u001b[01;36mBAC009S0002W0472.wav\u001b[0m\n",
      "-rw-r--r-- 1 suanfa 140396 6月  13 2017 \u001b[01;36mBAC009S0002W0473.wav\u001b[0m\n",
      "-rw-r--r-- 1 suanfa 233356 6月  13 2017 \u001b[01;36mBAC009S0002W0474.wav\u001b[0m\n",
      "-rw-r--r-- 1 suanfa 169482 6月  13 2017 \u001b[01;36mBAC009S0002W0475.wav\u001b[0m\n",
      "-rw-r--r-- 1 suanfa 133842 6月  13 2017 \u001b[01;36mBAC009S0002W0476.wav\u001b[0m\n",
      "-rw-r--r-- 1 suanfa 129614 6月  13 2017 \u001b[01;36mBAC009S0002W0477.wav\u001b[0m\n",
      "-rw-r--r-- 1 suanfa 116458 6月  13 2017 \u001b[01;36mBAC009S0002W0478.wav\u001b[0m\n",
      "-rw-r--r-- 1 suanfa 136654 6月  13 2017 \u001b[01;36mBAC009S0002W0479.wav\u001b[0m\n",
      "-rw-r--r-- 1 suanfa 119724 6月  13 2017 \u001b[01;36mBAC009S0002W0480.wav\u001b[0m\n",
      "-rw-r--r-- 1 suanfa 154958 6月  13 2017 \u001b[01;36mBAC009S0002W0481.wav\u001b[0m\n",
      "-rw-r--r-- 1 suanfa 219950 6月  13 2017 \u001b[01;36mBAC009S0002W0482.wav\u001b[0m\n",
      "-rw-r--r-- 1 suanfa 102864 6月  13 2017 \u001b[01;36mBAC009S0002W0483.wav\u001b[0m\n",
      "-rw-r--r-- 1 suanfa 138990 6月  13 2017 \u001b[01;36mBAC009S0002W0484.wav\u001b[0m\n",
      "-rw-r--r-- 1 suanfa 265740 6月  13 2017 \u001b[01;36mBAC009S0002W0485.wav\u001b[0m\n",
      "-rw-r--r-- 1 suanfa 197646 6月  13 2017 \u001b[01;36mBAC009S0002W0486.wav\u001b[0m\n",
      "-rw-r--r-- 1 suanfa 110348 6月  13 2017 \u001b[01;36mBAC009S0002W0487.wav\u001b[0m\n",
      "-rw-r--r-- 1 suanfa 248364 6月  13 2017 \u001b[01;36mBAC009S0002W0488.wav\u001b[0m\n",
      "-rw-r--r-- 1 suanfa 144176 6月  13 2017 \u001b[01;36mBAC009S0002W0489.wav\u001b[0m\n",
      "-rw-r--r-- 1 suanfa 133356 6月  13 2017 \u001b[01;36mBAC009S0002W0490.wav\u001b[0m\n",
      "-rw-r--r-- 1 suanfa 109864 6月  13 2017 \u001b[01;36mBAC009S0002W0491.wav\u001b[0m\n",
      "-rw-r--r-- 1 suanfa 157778 6月  13 2017 \u001b[01;36mBAC009S0002W0492.wav\u001b[0m\n",
      "-rw-r--r-- 1 suanfa 134192 6月  13 2017 \u001b[01;36mBAC009S0002W0493.wav\u001b[0m\n",
      "-rw-r--r-- 1 suanfa 219692 6月  13 2017 \u001b[01;36mBAC009S0002W0494.wav\u001b[0m\n",
      "-rw-r--r-- 1 suanfa 204716 6月  13 2017 \u001b[01;36mBAC009S0002W0495.wav\u001b[0m\n"
     ]
    }
   ],
   "source": [
    "ll $path_aishell/wav/S0002"
   ]
  },
  {
   "cell_type": "code",
   "execution_count": 31,
   "metadata": {},
   "outputs": [
    {
     "name": "stdout",
     "output_type": "stream",
     "text": [
      "BAC009S0002W0122 而 对 楼市 成交 抑制 作用 最 大 的 限 购\n",
      "BAC009S0002W0123 也 成为 地方 政府 的 眼中 钉\n",
      "BAC009S0002W0124 自 六月 底 呼和浩特 市 率先 宣布 取消 限 购 后\n"
     ]
    }
   ],
   "source": [
    "!head -3 $path_aishell/transcript/aishell_transcript_v0.8.txt"
   ]
  },
  {
   "cell_type": "code",
   "execution_count": 24,
   "metadata": {},
   "outputs": [],
   "source": [
    "speaker_aishell = glob(f'{path_aishell}wav/*')"
   ]
  },
  {
   "cell_type": "code",
   "execution_count": 39,
   "metadata": {},
   "outputs": [
    {
     "data": {
      "text/plain": [
       "400"
      ]
     },
     "execution_count": 39,
     "metadata": {},
     "output_type": "execute_result"
    }
   ],
   "source": [
    "len(speaker_aishell)"
   ]
  },
  {
   "cell_type": "code",
   "execution_count": 32,
   "metadata": {},
   "outputs": [],
   "source": [
    "transcripts_aishell = open(f'{path_aishell}/transcript/aishell_transcript_v0.8.txt', 'r').readlines()"
   ]
  },
  {
   "cell_type": "code",
   "execution_count": 101,
   "metadata": {},
   "outputs": [],
   "source": [
    "def get_pinyin(sentence):\n",
    "    sentence = sentence.strip().replace(' ', '').replace('\\n', '')\n",
    "    return ' '.join(lazy_pinyin(sentence, style=Style.TONE3))"
   ]
  },
  {
   "cell_type": "code",
   "execution_count": 102,
   "metadata": {},
   "outputs": [],
   "source": [
    "def get_path(root_path, first):\n",
    "    speaker_path = first[6:11]\n",
    "    file_name = first + '.wav'\n",
    "    return join(root_path, speaker_path, file_name)"
   ]
  },
  {
   "cell_type": "code",
   "execution_count": 103,
   "metadata": {},
   "outputs": [],
   "source": [
    "aishell_tuples = [(get_path(join(path_aishell, 'wav'), l[:16]), get_pinyin(l[16:]), l[6:11]) for l in transcripts_aishell]"
   ]
  },
  {
   "cell_type": "code",
   "execution_count": 104,
   "metadata": {
    "scrolled": true
   },
   "outputs": [
    {
     "data": {
      "text/plain": [
       "141600"
      ]
     },
     "execution_count": 104,
     "metadata": {},
     "output_type": "execute_result"
    }
   ],
   "source": [
    "len(aishell_tuples)"
   ]
  },
  {
   "cell_type": "code",
   "execution_count": 11,
   "metadata": {},
   "outputs": [],
   "source": [
    "import pandas as pd\n",
    "import numpy as np\n",
    "import random\n",
    "from sklearn.model_selection import train_test_split"
   ]
  },
  {
   "cell_type": "code",
   "execution_count": 119,
   "metadata": {},
   "outputs": [],
   "source": [
    "aishell_train, aishell_eval = train_test_split(aishell_tuples, test_size=300)"
   ]
  },
  {
   "cell_type": "code",
   "execution_count": 121,
   "metadata": {},
   "outputs": [
    {
     "data": {
      "text/plain": [
       "(141300, 300)"
      ]
     },
     "execution_count": 121,
     "metadata": {},
     "output_type": "execute_result"
    }
   ],
   "source": [
    "len(aishell_train), len(aishell_eval)"
   ]
  },
  {
   "cell_type": "code",
   "execution_count": 16,
   "metadata": {},
   "outputs": [],
   "source": [
    "aishell_train_df = pd.read_csv(f'{path_aishell}/audio_text_train_filelist.txt', \n",
    "                               sep='|', header=None, \n",
    "                               names=['wav_path', 'pinyin', 'speaker_name', 'speaker_emb_path'])"
   ]
  },
  {
   "cell_type": "code",
   "execution_count": 19,
   "metadata": {},
   "outputs": [],
   "source": [
    "aishell_train_df.speaker_emb_path = aishell_train_df.speaker_emb_path.apply(lambda x: x.replace('AIshell/', 'AIshell/embed/'))"
   ]
  },
  {
   "cell_type": "code",
   "execution_count": 22,
   "metadata": {},
   "outputs": [],
   "source": [
    "aishell_val_df = pd.read_csv(f'{path_aishell}/audio_text_val_filelist.txt', \n",
    "                               sep='|', header=None, \n",
    "                               names=['wav_path', 'pinyin', 'speaker_name', 'speaker_emb_path'])"
   ]
  },
  {
   "cell_type": "code",
   "execution_count": 23,
   "metadata": {},
   "outputs": [],
   "source": [
    "aishell_val_df.speaker_emb_path = aishell_val_df.speaker_emb_path.apply(lambda x: x.replace('AIshell/', 'AIshell/embed/'))"
   ]
  },
  {
   "cell_type": "code",
   "execution_count": 173,
   "metadata": {},
   "outputs": [],
   "source": [
    "aishell_train_df = pd.DataFrame(aishell_train, columns=['wav_path', 'pinyin', 'SpeakerID'])"
   ]
  },
  {
   "cell_type": "code",
   "execution_count": 175,
   "metadata": {},
   "outputs": [],
   "source": [
    "aishell_eval_df = pd.DataFrame(aishell_eval, columns=['wav_path', 'pinyin', 'SpeakerID'])"
   ]
  },
  {
   "cell_type": "code",
   "execution_count": 177,
   "metadata": {},
   "outputs": [
    {
     "data": {
      "text/html": [
       "<div>\n",
       "<style scoped>\n",
       "    .dataframe tbody tr th:only-of-type {\n",
       "        vertical-align: middle;\n",
       "    }\n",
       "\n",
       "    .dataframe tbody tr th {\n",
       "        vertical-align: top;\n",
       "    }\n",
       "\n",
       "    .dataframe thead th {\n",
       "        text-align: right;\n",
       "    }\n",
       "</style>\n",
       "<table border=\"1\" class=\"dataframe\">\n",
       "  <thead>\n",
       "    <tr style=\"text-align: right;\">\n",
       "      <th></th>\n",
       "      <th>wav_path</th>\n",
       "      <th>pinyin</th>\n",
       "      <th>SpeakerID</th>\n",
       "    </tr>\n",
       "  </thead>\n",
       "  <tbody>\n",
       "    <tr>\n",
       "      <td>0</td>\n",
       "      <td>/search/hadoop07/wuzijun/voice_data/AIshell/wa...</td>\n",
       "      <td>ta1 me5n zhen1 de5 neng2 zou3 dao4 yi4 qi3 ma5</td>\n",
       "      <td>S0363</td>\n",
       "    </tr>\n",
       "  </tbody>\n",
       "</table>\n",
       "</div>"
      ],
      "text/plain": [
       "                                            wav_path  \\\n",
       "0  /search/hadoop07/wuzijun/voice_data/AIshell/wa...   \n",
       "\n",
       "                                           pinyin SpeakerID  \n",
       "0  ta1 me5n zhen1 de5 neng2 zou3 dao4 yi4 qi3 ma5     S0363  "
      ]
     },
     "execution_count": 177,
     "metadata": {},
     "output_type": "execute_result"
    }
   ],
   "source": [
    "aishell_eval_df.head(1)"
   ]
  },
  {
   "cell_type": "code",
   "execution_count": 209,
   "metadata": {},
   "outputs": [],
   "source": [
    "aishell_train_df['speaker_emb_path'] = aishell_train_df[['wav_path', 'SpeakerID']] \\\n",
    "    .apply(lambda x: x[0].replace('wav', 'embed').replace('/' + x[1], ''), axis=1)"
   ]
  },
  {
   "cell_type": "code",
   "execution_count": 213,
   "metadata": {},
   "outputs": [],
   "source": [
    "aishell_eval_df['speaker_emb_path'] = aishell_eval_df[['wav_path', 'SpeakerID']] \\\n",
    "    .apply(lambda x: x[0].replace('wav', 'embed').replace('/' + x[1], ''), axis=1)"
   ]
  },
  {
   "cell_type": "code",
   "execution_count": 25,
   "metadata": {},
   "outputs": [],
   "source": [
    "aishell_train_df.to_csv(f'{path_aishell}/audio_text_train_filelist.txt', sep='|', header=False, index=False)"
   ]
  },
  {
   "cell_type": "code",
   "execution_count": 27,
   "metadata": {},
   "outputs": [],
   "source": [
    "aishell_val_df.to_csv(f'{path_aishell}/audio_text_val_filelist.txt', sep='|', header=False, index=False)"
   ]
  },
  {
   "cell_type": "markdown",
   "metadata": {},
   "source": [
    "### Magicdata"
   ]
  },
  {
   "cell_type": "code",
   "execution_count": 132,
   "metadata": {},
   "outputs": [],
   "source": [
    "import pandas as pd"
   ]
  },
  {
   "cell_type": "code",
   "execution_count": 29,
   "metadata": {},
   "outputs": [],
   "source": [
    "path_magic = '/search/hadoop07/wuzijun/voice_data/Magicdata'"
   ]
  },
  {
   "cell_type": "code",
   "execution_count": 139,
   "metadata": {},
   "outputs": [],
   "source": [
    "cat $path_magic/transcript/*.txt >> $path_magic/transcript/all_trans.txt"
   ]
  },
  {
   "cell_type": "code",
   "execution_count": 141,
   "metadata": {},
   "outputs": [],
   "source": [
    "magic_list = pd.read_csv(path_magic + '/transcript/all_trans.txt', sep='\\t')"
   ]
  },
  {
   "cell_type": "code",
   "execution_count": 143,
   "metadata": {},
   "outputs": [],
   "source": [
    "magic_list = magic_list[magic_list.UtteranceID.apply(lambda x: '.wav' in x)]"
   ]
  },
  {
   "cell_type": "code",
   "execution_count": 148,
   "metadata": {},
   "outputs": [
    {
     "name": "stderr",
     "output_type": "stream",
     "text": [
      "/search/hadoop02/suanfa/anaconda3/envs/tacotron2/lib/python3.7/site-packages/ipykernel_launcher.py:1: SettingWithCopyWarning: \n",
      "A value is trying to be set on a copy of a slice from a DataFrame\n",
      "\n",
      "See the caveats in the documentation: http://pandas.pydata.org/pandas-docs/stable/user_guide/indexing.html#returning-a-view-versus-a-copy\n",
      "  \"\"\"Entry point for launching an IPython kernel.\n"
     ]
    }
   ],
   "source": [
    "magic_list.drop_duplicates(subset='UtteranceID', inplace=True)"
   ]
  },
  {
   "cell_type": "code",
   "execution_count": 149,
   "metadata": {},
   "outputs": [
    {
     "data": {
      "text/plain": [
       "609552"
      ]
     },
     "execution_count": 149,
     "metadata": {},
     "output_type": "execute_result"
    }
   ],
   "source": [
    "len(magic_list)"
   ]
  },
  {
   "cell_type": "code",
   "execution_count": 151,
   "metadata": {},
   "outputs": [
    {
     "data": {
      "text/html": [
       "<div>\n",
       "<style scoped>\n",
       "    .dataframe tbody tr th:only-of-type {\n",
       "        vertical-align: middle;\n",
       "    }\n",
       "\n",
       "    .dataframe tbody tr th {\n",
       "        vertical-align: top;\n",
       "    }\n",
       "\n",
       "    .dataframe thead th {\n",
       "        text-align: right;\n",
       "    }\n",
       "</style>\n",
       "<table border=\"1\" class=\"dataframe\">\n",
       "  <thead>\n",
       "    <tr style=\"text-align: right;\">\n",
       "      <th></th>\n",
       "      <th>UtteranceID</th>\n",
       "      <th>SpeakerID</th>\n",
       "      <th>Transcription</th>\n",
       "    </tr>\n",
       "  </thead>\n",
       "  <tbody>\n",
       "    <tr>\n",
       "      <td>0</td>\n",
       "      <td>37_5622_20170913203118.wav</td>\n",
       "      <td>37_5622</td>\n",
       "      <td>高德地图</td>\n",
       "    </tr>\n",
       "    <tr>\n",
       "      <td>1</td>\n",
       "      <td>37_5622_20170913203322.wav</td>\n",
       "      <td>37_5622</td>\n",
       "      <td>我想用百度搜索短信</td>\n",
       "    </tr>\n",
       "    <tr>\n",
       "      <td>2</td>\n",
       "      <td>37_5622_20170913203824.wav</td>\n",
       "      <td>37_5622</td>\n",
       "      <td>水费还可以用多长时间</td>\n",
       "    </tr>\n",
       "  </tbody>\n",
       "</table>\n",
       "</div>"
      ],
      "text/plain": [
       "                  UtteranceID SpeakerID Transcription\n",
       "0  37_5622_20170913203118.wav   37_5622          高德地图\n",
       "1  37_5622_20170913203322.wav   37_5622     我想用百度搜索短信\n",
       "2  37_5622_20170913203824.wav   37_5622    水费还可以用多长时间"
      ]
     },
     "execution_count": 151,
     "metadata": {},
     "output_type": "execute_result"
    }
   ],
   "source": [
    "magic_list.head(3)"
   ]
  },
  {
   "cell_type": "code",
   "execution_count": 152,
   "metadata": {},
   "outputs": [
    {
     "data": {
      "text/plain": [
       "'/search/hadoop07/wuzijun/voice_data/Magicdata'"
      ]
     },
     "execution_count": 152,
     "metadata": {},
     "output_type": "execute_result"
    }
   ],
   "source": [
    "path_magic"
   ]
  },
  {
   "cell_type": "code",
   "execution_count": 158,
   "metadata": {},
   "outputs": [
    {
     "name": "stderr",
     "output_type": "stream",
     "text": [
      "/search/hadoop02/suanfa/anaconda3/envs/tacotron2/lib/python3.7/site-packages/ipykernel_launcher.py:1: SettingWithCopyWarning: \n",
      "A value is trying to be set on a copy of a slice from a DataFrame.\n",
      "Try using .loc[row_indexer,col_indexer] = value instead\n",
      "\n",
      "See the caveats in the documentation: http://pandas.pydata.org/pandas-docs/stable/user_guide/indexing.html#returning-a-view-versus-a-copy\n",
      "  \"\"\"Entry point for launching an IPython kernel.\n"
     ]
    }
   ],
   "source": [
    "magic_list['wav_path'] = magic_list[['UtteranceID', 'SpeakerID']].apply(lambda x: f'{path_magic}/wav/{x[1]}/{x[0]}', axis=1)"
   ]
  },
  {
   "cell_type": "code",
   "execution_count": 160,
   "metadata": {},
   "outputs": [
    {
     "name": "stderr",
     "output_type": "stream",
     "text": [
      "/search/hadoop02/suanfa/anaconda3/envs/tacotron2/lib/python3.7/site-packages/ipykernel_launcher.py:1: SettingWithCopyWarning: \n",
      "A value is trying to be set on a copy of a slice from a DataFrame.\n",
      "Try using .loc[row_indexer,col_indexer] = value instead\n",
      "\n",
      "See the caveats in the documentation: http://pandas.pydata.org/pandas-docs/stable/user_guide/indexing.html#returning-a-view-versus-a-copy\n",
      "  \"\"\"Entry point for launching an IPython kernel.\n"
     ]
    }
   ],
   "source": [
    "magic_list['pinyin'] = magic_list.Transcription.apply(lambda x: get_pinyin(x))"
   ]
  },
  {
   "cell_type": "code",
   "execution_count": 222,
   "metadata": {},
   "outputs": [
    {
     "name": "stderr",
     "output_type": "stream",
     "text": [
      "/search/hadoop02/suanfa/anaconda3/envs/tacotron2/lib/python3.7/site-packages/ipykernel_launcher.py:2: SettingWithCopyWarning: \n",
      "A value is trying to be set on a copy of a slice from a DataFrame.\n",
      "Try using .loc[row_indexer,col_indexer] = value instead\n",
      "\n",
      "See the caveats in the documentation: http://pandas.pydata.org/pandas-docs/stable/user_guide/indexing.html#returning-a-view-versus-a-copy\n",
      "  \n"
     ]
    }
   ],
   "source": [
    "magic_list['speaker_emb_path'] = magic_list[['wav_path', 'SpeakerID']] \\\n",
    "    .apply(lambda x: x[0].replace('wav', 'embed').replace(x[1] + '/', ''), axis=1)"
   ]
  },
  {
   "cell_type": "code",
   "execution_count": 223,
   "metadata": {},
   "outputs": [
    {
     "data": {
      "text/plain": [
       "('/search/hadoop07/wuzijun/voice_data/Magicdata/embed/37_5622_20170913203118.embed',\n",
       " '/search/hadoop07/wuzijun/voice_data/Magicdata/wav/37_5622/37_5622_20170913203118.wav')"
      ]
     },
     "execution_count": 223,
     "metadata": {},
     "output_type": "execute_result"
    }
   ],
   "source": [
    "magic_list.speaker_emb_path[0], magic_list.wav_path[0]"
   ]
  },
  {
   "cell_type": "code",
   "execution_count": 224,
   "metadata": {},
   "outputs": [],
   "source": [
    "magic_trans = magic_list[['wav_path', 'pinyin', 'SpeakerID', 'speaker_emb_path']].copy()"
   ]
  },
  {
   "cell_type": "code",
   "execution_count": 225,
   "metadata": {},
   "outputs": [],
   "source": [
    "magic_train, magic_val = train_test_split(magic_trans, test_size=300)"
   ]
  },
  {
   "cell_type": "code",
   "execution_count": 226,
   "metadata": {},
   "outputs": [
    {
     "data": {
      "text/plain": [
       "(609252, 300)"
      ]
     },
     "execution_count": 226,
     "metadata": {},
     "output_type": "execute_result"
    }
   ],
   "source": [
    "len(magic_train), len(magic_val)"
   ]
  },
  {
   "cell_type": "code",
   "execution_count": 41,
   "metadata": {},
   "outputs": [],
   "source": [
    "magic_train = pd.read_csv(path_magic + '/audio_text_train_filelist.txt', header=None, sep='|', \n",
    "                          names=['wav_path', 'pinyin', 'Speaker_name', 'speaker_emb_path'])"
   ]
  },
  {
   "cell_type": "code",
   "execution_count": 42,
   "metadata": {},
   "outputs": [],
   "source": [
    "magic_val = pd.read_csv(path_magic + '/audio_text_val_filelist.txt', header=None, sep='|', \n",
    "                          names=['wav_path', 'pinyin', 'Speaker_name', 'speaker_emb_path'])"
   ]
  },
  {
   "cell_type": "code",
   "execution_count": 43,
   "metadata": {},
   "outputs": [
    {
     "data": {
      "text/plain": [
       "'/search/hadoop07/wuzijun/voice_data/Magicdata/embed14_4028_20170819170219'"
      ]
     },
     "execution_count": 43,
     "metadata": {},
     "output_type": "execute_result"
    }
   ],
   "source": [
    "magic_train.speaker_emb_path[0]"
   ]
  },
  {
   "cell_type": "code",
   "execution_count": 44,
   "metadata": {},
   "outputs": [],
   "source": [
    "magic_train.speaker_emb_path = magic_train.speaker_emb_path.apply(lambda x: x.replace('Magicdata/embed', 'Magicdata/embed/'))"
   ]
  },
  {
   "cell_type": "code",
   "execution_count": 45,
   "metadata": {},
   "outputs": [],
   "source": [
    "magic_val.speaker_emb_path = magic_val.speaker_emb_path.apply(lambda x: x.replace('Magicdata/embed', 'Magicdata/embed/'))"
   ]
  },
  {
   "cell_type": "code",
   "execution_count": 46,
   "metadata": {},
   "outputs": [],
   "source": [
    "magic_train.to_csv(path_magic + '/audio_text_train_filelist.txt', header=None, sep='|', index=False)"
   ]
  },
  {
   "cell_type": "code",
   "execution_count": 47,
   "metadata": {},
   "outputs": [],
   "source": [
    "magic_val.to_csv(path_magic + '/audio_text_val_filelist.txt', header=None, sep='|', index=False)"
   ]
  },
  {
   "cell_type": "markdown",
   "metadata": {},
   "source": [
    "### Biaobei"
   ]
  },
  {
   "cell_type": "code",
   "execution_count": 53,
   "metadata": {},
   "outputs": [],
   "source": [
    "biaobei_train = pd.read_csv('/search/hadoop07/wuzijun/voice_data/Biaobei/audio_text_train_filelist.txt', \n",
    "                            sep='|', header=None, names=['wav_path', 'pinyin', 'speaker_name', 'speaker_emb_path'])"
   ]
  },
  {
   "cell_type": "code",
   "execution_count": 54,
   "metadata": {},
   "outputs": [],
   "source": [
    "biaobei_val = pd.read_csv('/search/hadoop07/wuzijun/voice_data/Biaobei/audio_text_val_filelist.txt', \n",
    "                            sep='|', header=None, names=['wav_path', 'pinyin', 'speaker_name', 'speaker_emb_path'])"
   ]
  },
  {
   "cell_type": "code",
   "execution_count": 62,
   "metadata": {},
   "outputs": [],
   "source": [
    "biaobei_train.speaker_emb_path = biaobei_train.speaker_emb_path.apply(lambda x: x.replace('Biaobei/', 'Biaobei/embed/'))"
   ]
  },
  {
   "cell_type": "code",
   "execution_count": 63,
   "metadata": {},
   "outputs": [],
   "source": [
    "biaobei_val.speaker_emb_path = biaobei_val.speaker_emb_path.apply(lambda x: x.replace('Biaobei/', 'Biaobei/embed/'))"
   ]
  },
  {
   "cell_type": "code",
   "execution_count": 64,
   "metadata": {},
   "outputs": [
    {
     "data": {
      "text/plain": [
       "'/search/hadoop07/wuzijun/voice_data/Biaobei/embed/002937'"
      ]
     },
     "execution_count": 64,
     "metadata": {},
     "output_type": "execute_result"
    }
   ],
   "source": [
    "biaobei_val.speaker_emb_path[0]"
   ]
  },
  {
   "cell_type": "code",
   "execution_count": 255,
   "metadata": {},
   "outputs": [],
   "source": [
    "biaobei_train['speaker_name'] = 'Biaobei'\n",
    "biaobei_val['speaker_name'] = 'Biaobei'"
   ]
  },
  {
   "cell_type": "code",
   "execution_count": 256,
   "metadata": {},
   "outputs": [],
   "source": [
    "biaobei_train['speaker_emb_path'] = biaobei_train.wav_path.apply(lambda x: x.replace('Wave', 'wav').replace('wav', 'embed'))"
   ]
  },
  {
   "cell_type": "code",
   "execution_count": 257,
   "metadata": {},
   "outputs": [],
   "source": [
    "biaobei_val['speaker_emb_path'] = biaobei_val.wav_path.apply(lambda x: x.replace('Wave', 'wav').replace('wav', 'embed'))"
   ]
  },
  {
   "cell_type": "code",
   "execution_count": 258,
   "metadata": {},
   "outputs": [
    {
     "data": {
      "text/plain": [
       "('/search/hadoop07/wuzijun/voice_data/Biaobei/embed/009061.embed',\n",
       " '/search/hadoop07/wuzijun/voice_data/Biaobei/embed/009061.embed')"
      ]
     },
     "execution_count": 258,
     "metadata": {},
     "output_type": "execute_result"
    }
   ],
   "source": [
    "biaobei_train.speaker_emb_path[0], biaobei_train.wav_path[0]"
   ]
  },
  {
   "cell_type": "code",
   "execution_count": 262,
   "metadata": {},
   "outputs": [],
   "source": [
    "biaobei_train.reset_index(inplace=True)"
   ]
  },
  {
   "cell_type": "code",
   "execution_count": 268,
   "metadata": {},
   "outputs": [],
   "source": [
    "biaobei_train.wav_path = biaobei_train.level_0\n",
    "biaobei_train.pinyin = biaobei_train.level_1"
   ]
  },
  {
   "cell_type": "code",
   "execution_count": 269,
   "metadata": {},
   "outputs": [],
   "source": [
    "biaobei_train = biaobei_train[['wav_path', 'pinyin', 'speaker_emb_path']].copy()"
   ]
  },
  {
   "cell_type": "code",
   "execution_count": 272,
   "metadata": {},
   "outputs": [],
   "source": [
    "biaobei_train['speaker_name'] = 'Biaobei'"
   ]
  },
  {
   "cell_type": "code",
   "execution_count": 281,
   "metadata": {},
   "outputs": [],
   "source": [
    "biaobei_train.wav_path = biaobei_train.wav_path.apply(lambda x: x.replace('Wave', 'wav'))"
   ]
  },
  {
   "cell_type": "code",
   "execution_count": 65,
   "metadata": {},
   "outputs": [],
   "source": [
    "biaobei_train[['wav_path', 'pinyin', 'speaker_name', 'speaker_emb_path']].to_csv('/search/hadoop07/wuzijun/voice_data/Biaobei/audio_text_train_filelist.txt', sep='|', index=False, header=False)"
   ]
  },
  {
   "cell_type": "code",
   "execution_count": null,
   "metadata": {},
   "outputs": [],
   "source": []
  },
  {
   "cell_type": "code",
   "execution_count": 276,
   "metadata": {},
   "outputs": [],
   "source": [
    "biaobei_val.reset_index(inplace=True)"
   ]
  },
  {
   "cell_type": "code",
   "execution_count": 277,
   "metadata": {},
   "outputs": [],
   "source": [
    "biaobei_val.wav_path = biaobei_val.level_0\n",
    "biaobei_val.pinyin = biaobei_val.level_1"
   ]
  },
  {
   "cell_type": "code",
   "execution_count": 278,
   "metadata": {},
   "outputs": [],
   "source": [
    "biaobei_val = biaobei_val[['wav_path', 'pinyin', 'speaker_emb_path']].copy()"
   ]
  },
  {
   "cell_type": "code",
   "execution_count": 279,
   "metadata": {},
   "outputs": [],
   "source": [
    "biaobei_val['speaker_name'] = 'Biaobei'"
   ]
  },
  {
   "cell_type": "code",
   "execution_count": 283,
   "metadata": {},
   "outputs": [],
   "source": [
    "biaobei_val.wav_path = biaobei_val.wav_path.apply(lambda x: x.replace('Wave', 'wav'))"
   ]
  },
  {
   "cell_type": "code",
   "execution_count": 66,
   "metadata": {},
   "outputs": [],
   "source": [
    "biaobei_val[['wav_path', 'pinyin', 'speaker_name', 'speaker_emb_path']].to_csv('/search/hadoop07/wuzijun/voice_data/Biaobei/audio_text_val_filelist.txt', sep='|', index=False, header=False)"
   ]
  },
  {
   "cell_type": "code",
   "execution_count": null,
   "metadata": {},
   "outputs": [],
   "source": []
  },
  {
   "cell_type": "markdown",
   "metadata": {},
   "source": [
    "## 测试"
   ]
  },
  {
   "cell_type": "code",
   "execution_count": 70,
   "metadata": {},
   "outputs": [],
   "source": [
    "test1 = np.load('/search/hadoop07/wuzijun/voice_data/Biaobei/embed/009996.npy')"
   ]
  },
  {
   "cell_type": "code",
   "execution_count": 77,
   "metadata": {},
   "outputs": [],
   "source": [
    "test2 = np.load('/search/hadoop07/wuzijun/voice_data/Biaobei/embed/009991.npy')"
   ]
  },
  {
   "cell_type": "code",
   "execution_count": 1,
   "metadata": {},
   "outputs": [],
   "source": [
    "import librosa\n",
    "import IPython\n",
    "from IPython.display import Audio"
   ]
  },
  {
   "cell_type": "code",
   "execution_count": 131,
   "metadata": {},
   "outputs": [],
   "source": [
    "path = '/search/hadoop07/wuzijun/voice_data/Magicdata/wav/15_3621/15_3621_20170810140303.wav'"
   ]
  },
  {
   "cell_type": "code",
   "execution_count": 132,
   "metadata": {},
   "outputs": [
    {
     "data": {
      "text/html": [
       "\n",
       "                <audio  controls=\"controls\" >\n",
       "                    <source src=\"data:audio/wav;base64,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\" type=\"audio/wav\" />\n",
       "                    Your browser does not support the audio element.\n",
       "                </audio>\n",
       "              "
      ],
      "text/plain": [
       "<IPython.lib.display.Audio object>"
      ]
     },
     "metadata": {},
     "output_type": "display_data"
    }
   ],
   "source": [
    "IPython.display.display(Audio(librosa.load(path, sr=16000)[0], rate=16000))"
   ]
  },
  {
   "cell_type": "code",
   "execution_count": 107,
   "metadata": {},
   "outputs": [],
   "source": [
    "import torch"
   ]
  },
  {
   "cell_type": "code",
   "execution_count": 108,
   "metadata": {},
   "outputs": [],
   "source": [
    "from torch import nn"
   ]
  },
  {
   "cell_type": "code",
   "execution_count": null,
   "metadata": {},
   "outputs": [],
   "source": [
    "nn.utils.rnn.pad_packed_sequence"
   ]
  },
  {
   "cell_type": "code",
   "execution_count": 109,
   "metadata": {},
   "outputs": [],
   "source": [
    "a = torch.rand(5, 9, 4)"
   ]
  },
  {
   "cell_type": "code",
   "execution_count": 110,
   "metadata": {},
   "outputs": [],
   "source": [
    "b = torch.rand(5, 9, 2)"
   ]
  },
  {
   "cell_type": "code",
   "execution_count": 111,
   "metadata": {},
   "outputs": [
    {
     "ename": "RuntimeError",
     "evalue": "The size of tensor a (4) must match the size of tensor b (2) at non-singleton dimension 2",
     "output_type": "error",
     "traceback": [
      "\u001b[0;31m---------------------------------------------------------------------------\u001b[0m",
      "\u001b[0;31mRuntimeError\u001b[0m                              Traceback (most recent call last)",
      "\u001b[0;32m<ipython-input-111-bd58363a63fc>\u001b[0m in \u001b[0;36m<module>\u001b[0;34m\u001b[0m\n\u001b[0;32m----> 1\u001b[0;31m \u001b[0ma\u001b[0m \u001b[0;34m+\u001b[0m \u001b[0mb\u001b[0m\u001b[0;34m\u001b[0m\u001b[0;34m\u001b[0m\u001b[0m\n\u001b[0m",
      "\u001b[0;31mRuntimeError\u001b[0m: The size of tensor a (4) must match the size of tensor b (2) at non-singleton dimension 2"
     ]
    }
   ],
   "source": [
    "torch.Tensor.expand"
   ]
  },
  {
   "cell_type": "code",
   "execution_count": 112,
   "metadata": {},
   "outputs": [
    {
     "data": {
      "text/plain": [
       "tensor([[0., 0., 0., 0.],\n",
       "        [0., 0., 0., 0.],\n",
       "        [0., 0., 0., 0.]])"
      ]
     },
     "execution_count": 112,
     "metadata": {},
     "output_type": "execute_result"
    }
   ],
   "source": [
    "torch.zeros(1).repeat(3,4)"
   ]
  },
  {
   "cell_type": "code",
   "execution_count": 1,
   "metadata": {},
   "outputs": [],
   "source": [
    "from encoder.model import SpeakerEncoder"
   ]
  },
  {
   "cell_type": "code",
   "execution_count": 2,
   "metadata": {},
   "outputs": [],
   "source": [
    "model = SpeakerEncoder('cuda', 'cuda')"
   ]
  },
  {
   "cell_type": "code",
   "execution_count": 3,
   "metadata": {},
   "outputs": [],
   "source": [
    "import torch"
   ]
  },
  {
   "cell_type": "code",
   "execution_count": 4,
   "metadata": {},
   "outputs": [],
   "source": [
    "checkpoint = torch.load('encoder/saved_models/pretrained.pt')"
   ]
  },
  {
   "cell_type": "code",
   "execution_count": 1,
   "metadata": {},
   "outputs": [],
   "source": [
    "import numpy as np"
   ]
  },
  {
   "cell_type": "code",
   "execution_count": 2,
   "metadata": {},
   "outputs": [],
   "source": [
    "from synthesizer.utils.audio import AudioProcessor"
   ]
  },
  {
   "cell_type": "code",
   "execution_count": 3,
   "metadata": {},
   "outputs": [],
   "source": [
    "from synthesizer.utils.generic_utils import load_config"
   ]
  },
  {
   "cell_type": "code",
   "execution_count": 4,
   "metadata": {},
   "outputs": [],
   "source": [
    "c = load_config('synthesizer/config.json')"
   ]
  },
  {
   "cell_type": "code",
   "execution_count": 5,
   "metadata": {},
   "outputs": [
    {
     "name": "stdout",
     "output_type": "stream",
     "text": [
      " > Setting up Audio Processor...\n",
      " | > sample_rate:16000\n",
      " | > num_mels:80\n",
      " | > min_level_db:-100\n",
      " | > frame_shift_ms:12.5\n",
      " | > frame_length_ms:50\n",
      " | > ref_level_db:20\n",
      " | > num_freq:401\n",
      " | > power:1.5\n",
      " | > preemphasis:0.98\n",
      " | > griffin_lim_iters:60\n",
      " | > signal_norm:True\n",
      " | > symmetric_norm:True\n",
      " | > mel_fmin:0\n",
      " | > mel_fmax:8000.0\n",
      " | > max_norm:4.0\n",
      " | > clip_norm:True\n",
      " | > do_trim_silence:True\n",
      " | > sound_norm:False\n",
      " | > n_fft:800\n",
      " | > hop_length:200\n",
      " | > win_length:800\n"
     ]
    }
   ],
   "source": [
    "ap = AudioProcessor(**c.audio)"
   ]
  },
  {
   "cell_type": "code",
   "execution_count": 6,
   "metadata": {},
   "outputs": [
    {
     "data": {
      "text/plain": [
       "(800, 200, 800)"
      ]
     },
     "execution_count": 6,
     "metadata": {},
     "output_type": "execute_result"
    }
   ],
   "source": [
    "ap._stft_parameters()"
   ]
  },
  {
   "cell_type": "code",
   "execution_count": 7,
   "metadata": {},
   "outputs": [],
   "source": [
    "import numpy as np"
   ]
  },
  {
   "cell_type": "code",
   "execution_count": 80,
   "metadata": {},
   "outputs": [],
   "source": [
    "import librosa"
   ]
  },
  {
   "cell_type": "code",
   "execution_count": 84,
   "metadata": {},
   "outputs": [],
   "source": [
    "import soundfile"
   ]
  },
  {
   "cell_type": "code",
   "execution_count": 141,
   "metadata": {},
   "outputs": [],
   "source": [
    "x, sr = soundfile.read('/search/hadoop07/wuzijun/voice_data/Biaobei/wav/000001.wav')"
   ]
  },
  {
   "cell_type": "code",
   "execution_count": 162,
   "metadata": {},
   "outputs": [
    {
     "data": {
      "text/plain": [
       "(array([-3.05175781e-05,  6.10351562e-05,  1.52587891e-04, ...,\n",
       "         0.00000000e+00,  0.00000000e+00,  3.05175781e-05]), 127680)"
      ]
     },
     "execution_count": 162,
     "metadata": {},
     "output_type": "execute_result"
    }
   ],
   "source": [
    "x, len(x)"
   ]
  },
  {
   "cell_type": "code",
   "execution_count": 157,
   "metadata": {},
   "outputs": [],
   "source": [
    "x1, sr1 = librosa.load('/search/hadoop07/wuzijun/voice_data/Biaobei/wav/000001.wav', sr=16000)"
   ]
  },
  {
   "cell_type": "code",
   "execution_count": 158,
   "metadata": {},
   "outputs": [
    {
     "data": {
      "text/plain": [
       "(array([1.11684994e-05, 2.35471700e-04, 4.23695339e-04, ...,\n",
       "        2.75686380e-05, 1.06456755e-05, 1.14009154e-05], dtype=float32), 16000)"
      ]
     },
     "execution_count": 158,
     "metadata": {},
     "output_type": "execute_result"
    }
   ],
   "source": [
    "x1, sr1"
   ]
  },
  {
   "cell_type": "code",
   "execution_count": 159,
   "metadata": {},
   "outputs": [
    {
     "data": {
      "text/plain": [
       "42560"
      ]
     },
     "execution_count": 159,
     "metadata": {},
     "output_type": "execute_result"
    }
   ],
   "source": [
    "len(x1)"
   ]
  },
  {
   "cell_type": "code",
   "execution_count": 155,
   "metadata": {},
   "outputs": [],
   "source": [
    "x2 = librosa.resample(x, sr, 16000)"
   ]
  },
  {
   "cell_type": "code",
   "execution_count": 156,
   "metadata": {},
   "outputs": [
    {
     "data": {
      "text/plain": [
       "array([1.11684963e-05, 2.35471630e-04, 4.23695326e-04, ...,\n",
       "       2.75686327e-05, 1.06456725e-05, 1.14009170e-05])"
      ]
     },
     "execution_count": 156,
     "metadata": {},
     "output_type": "execute_result"
    }
   ],
   "source": [
    "x2"
   ]
  },
  {
   "cell_type": "code",
   "execution_count": 160,
   "metadata": {},
   "outputs": [
    {
     "data": {
      "text/plain": [
       "42560"
      ]
     },
     "execution_count": 160,
     "metadata": {},
     "output_type": "execute_result"
    }
   ],
   "source": [
    "len(x2)"
   ]
  },
  {
   "cell_type": "code",
   "execution_count": 161,
   "metadata": {},
   "outputs": [
    {
     "data": {
      "text/plain": [
       "array([False, False, False, ..., False, False, False])"
      ]
     },
     "execution_count": 161,
     "metadata": {},
     "output_type": "execute_result"
    }
   ],
   "source": [
    "x2 == x1"
   ]
  },
  {
   "cell_type": "code",
   "execution_count": 23,
   "metadata": {},
   "outputs": [
    {
     "name": "stdout",
     "output_type": "stream",
     "text": [
      "/search/hadoop07/wuzijun/voice_data/AIshell/embed\n"
     ]
    }
   ],
   "source": [
    "cd /search/hadoop07/wuzijun/voice_data/AIshell/embed/"
   ]
  },
  {
   "cell_type": "code",
   "execution_count": 24,
   "metadata": {},
   "outputs": [
    {
     "data": {
      "text/plain": [
       "'/search/hadoop07/wuzijun/voice_data/AIshell/embed'"
      ]
     },
     "execution_count": 24,
     "metadata": {},
     "output_type": "execute_result"
    }
   ],
   "source": [
    "pwd"
   ]
  },
  {
   "cell_type": "code",
   "execution_count": 7,
   "metadata": {},
   "outputs": [],
   "source": [
    "import glob"
   ]
  },
  {
   "cell_type": "code",
   "execution_count": 31,
   "metadata": {},
   "outputs": [],
   "source": [
    "test = glob.glob('*')"
   ]
  },
  {
   "cell_type": "code",
   "execution_count": 32,
   "metadata": {},
   "outputs": [],
   "source": [
    "to_rename = [n for n in test if '\\n' in n]"
   ]
  },
  {
   "cell_type": "code",
   "execution_count": 33,
   "metadata": {},
   "outputs": [
    {
     "ename": "IndexError",
     "evalue": "list index out of range",
     "output_type": "error",
     "traceback": [
      "\u001b[0;31m---------------------------------------------------------------------------\u001b[0m",
      "\u001b[0;31mIndexError\u001b[0m                                Traceback (most recent call last)",
      "\u001b[0;32m<ipython-input-33-d01f6120c690>\u001b[0m in \u001b[0;36m<module>\u001b[0;34m\u001b[0m\n\u001b[0;32m----> 1\u001b[0;31m \u001b[0mto_rename\u001b[0m\u001b[0;34m[\u001b[0m\u001b[0;36m0\u001b[0m\u001b[0;34m]\u001b[0m\u001b[0;34m\u001b[0m\u001b[0;34m\u001b[0m\u001b[0m\n\u001b[0m",
      "\u001b[0;31mIndexError\u001b[0m: list index out of range"
     ]
    }
   ],
   "source": [
    "to_rename[0]"
   ]
  },
  {
   "cell_type": "code",
   "execution_count": 34,
   "metadata": {},
   "outputs": [
    {
     "data": {
      "text/plain": [
       "0"
      ]
     },
     "execution_count": 34,
     "metadata": {},
     "output_type": "execute_result"
    }
   ],
   "source": [
    "len(to_rename)"
   ]
  },
  {
   "cell_type": "code",
   "execution_count": 29,
   "metadata": {},
   "outputs": [],
   "source": [
    "import os, sys"
   ]
  },
  {
   "cell_type": "code",
   "execution_count": 30,
   "metadata": {
    "scrolled": true
   },
   "outputs": [],
   "source": [
    "for n in to_rename:\n",
    "    new_n = n.replace('\\n', '')\n",
    "    prefix = new_n.replace('.npy', '').split('/')[-1]\n",
    "    # print(f'{n} => {new_n}')\n",
    "    os.system(f\"mv {prefix}*.npy {new_n}\")"
   ]
  },
  {
   "cell_type": "code",
   "execution_count": null,
   "metadata": {},
   "outputs": [],
   "source": []
  }
 ],
 "metadata": {
  "kernelspec": {
   "display_name": "tacotron2",
   "language": "python",
   "name": "tacotron2"
  },
  "language_info": {
   "codemirror_mode": {
    "name": "ipython",
    "version": 3
   },
   "file_extension": ".py",
   "mimetype": "text/x-python",
   "name": "python",
   "nbconvert_exporter": "python",
   "pygments_lexer": "ipython3",
   "version": "3.7.4"
  }
 },
 "nbformat": 4,
 "nbformat_minor": 4
}
